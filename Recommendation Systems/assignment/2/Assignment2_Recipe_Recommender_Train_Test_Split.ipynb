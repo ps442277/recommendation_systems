{
  "cells": [
    {
      "cell_type": "markdown",
      "metadata": {
        "id": "htey1FpQcn3X"
      },
      "source": [
        "## Setup"
      ]
    },
    {
      "cell_type": "code",
      "execution_count": 1,
      "metadata": {
        "colab": {
          "base_uri": "https://localhost:8080/"
        },
        "outputId": "cfb3a661-e508-4527-b81f-590dfa8a8424",
        "id": "NRiDLBE1l-Dw"
      },
      "outputs": [
        {
          "output_type": "stream",
          "name": "stdout",
          "text": [
            "Drive already mounted at /content/drive; to attempt to forcibly remount, call drive.mount(\"/content/drive\", force_remount=True).\n"
          ]
        }
      ],
      "source": [
        "import os\n",
        "# give googe drive the required permission\n",
        "from google.colab import drive\n",
        "drive.mount('/content/drive')"
      ]
    },
    {
      "cell_type": "code",
      "execution_count": 2,
      "metadata": {
        "colab": {
          "base_uri": "https://localhost:8080/",
          "height": 35
        },
        "outputId": "aec98e40-dc30-4fc2-d9f4-5db946df9db6",
        "id": "BwzVR59Ll-Dw"
      },
      "outputs": [
        {
          "output_type": "execute_result",
          "data": {
            "text/plain": [
              "'/content/drive/MyDrive/FoodRecSys'"
            ],
            "application/vnd.google.colaboratory.intrinsic+json": {
              "type": "string"
            }
          },
          "metadata": {},
          "execution_count": 2
        }
      ],
      "source": [
        "# Create a folder in your drive and add the name of that folder here.\n",
        "# For example, for the code below to run correctly, you need to have a folder named FoodRecSys in 'My Drive'.\n",
        "# The said folder will be your home directory for the rest of the project.\n",
        "# You will be able to save and read data from the folder.\n",
        "\n",
        "os.chdir(\"/content/drive/MyDrive/FoodRecSys/\")\n",
        "os.getcwd()"
      ]
    },
    {
      "cell_type": "code",
      "execution_count": 3,
      "metadata": {
        "colab": {
          "base_uri": "https://localhost:8080/",
          "height": 193
        },
        "id": "BpUqlBP89U8I",
        "outputId": "78f912ff-9f02-45b0-f0b7-90905f4dc214"
      },
      "outputs": [
        {
          "output_type": "error",
          "ename": "FileNotFoundError",
          "evalue": "ignored",
          "traceback": [
            "\u001b[0;31m---------------------------------------------------------------------------\u001b[0m",
            "\u001b[0;31mFileNotFoundError\u001b[0m                         Traceback (most recent call last)",
            "\u001b[0;32m<ipython-input-3-310e42a27e21>\u001b[0m in \u001b[0;36m<cell line: 1>\u001b[0;34m()\u001b[0m\n\u001b[0;32m----> 1\u001b[0;31m \u001b[0mos\u001b[0m\u001b[0;34m.\u001b[0m\u001b[0mchdir\u001b[0m\u001b[0;34m(\u001b[0m\u001b[0;34m\"/content/drive/MyDrive/food_recsys_project/Code Files/\"\u001b[0m\u001b[0;34m)\u001b[0m\u001b[0;34m\u001b[0m\u001b[0;34m\u001b[0m\u001b[0m\n\u001b[0m\u001b[1;32m      2\u001b[0m \u001b[0mos\u001b[0m\u001b[0;34m.\u001b[0m\u001b[0mgetcwd\u001b[0m\u001b[0;34m(\u001b[0m\u001b[0;34m)\u001b[0m\u001b[0;34m\u001b[0m\u001b[0;34m\u001b[0m\u001b[0m\n",
            "\u001b[0;31mFileNotFoundError\u001b[0m: [Errno 2] No such file or directory: '/content/drive/MyDrive/food_recsys_project/Code Files/'"
          ]
        }
      ],
      "source": [
        "os.chdir(\"/content/drive/MyDrive/food_recsys_project/Code Files/\")\n",
        "os.getcwd()"
      ]
    },
    {
      "cell_type": "code",
      "execution_count": 10,
      "metadata": {
        "id": "zFl1W65u9U2q"
      },
      "outputs": [],
      "source": [
        "try:\n",
        "  import pyspark\n",
        "except:\n",
        "  !pip install pyspark==3.1.2\n",
        "  import pyspark"
      ]
    },
    {
      "cell_type": "code",
      "source": [
        "from pyspark.sql import SparkSession\n",
        "from pyspark.context import SparkContext\n",
        "from pyspark.sql.functions import *"
      ],
      "metadata": {
        "id": "oBvA-zmx2_vE"
      },
      "execution_count": 29,
      "outputs": []
    },
    {
      "cell_type": "code",
      "execution_count": 12,
      "metadata": {
        "id": "H07v5FBc9fW9"
      },
      "outputs": [],
      "source": [
        "spark = SparkSession.builder.master(\"local\").config('spark.ui.port', '4050').getOrCreate()"
      ]
    },
    {
      "cell_type": "code",
      "execution_count": 13,
      "metadata": {
        "colab": {
          "base_uri": "https://localhost:8080/",
          "height": 219
        },
        "id": "eqeHc0B_9nOG",
        "outputId": "92d33a65-d1e9-4932-892f-f862e631e2f7"
      },
      "outputs": [
        {
          "output_type": "execute_result",
          "data": {
            "text/plain": [
              "<pyspark.sql.session.SparkSession at 0x7a9fff22c9d0>"
            ],
            "text/html": [
              "\n",
              "            <div>\n",
              "                <p><b>SparkSession - in-memory</b></p>\n",
              "                \n",
              "        <div>\n",
              "            <p><b>SparkContext</b></p>\n",
              "\n",
              "            <p><a href=\"http://8d425354d973:4050\">Spark UI</a></p>\n",
              "\n",
              "            <dl>\n",
              "              <dt>Version</dt>\n",
              "                <dd><code>v3.1.2</code></dd>\n",
              "              <dt>Master</dt>\n",
              "                <dd><code>local</code></dd>\n",
              "              <dt>AppName</dt>\n",
              "                <dd><code>pyspark-shell</code></dd>\n",
              "            </dl>\n",
              "        </div>\n",
              "        \n",
              "            </div>\n",
              "        "
            ]
          },
          "metadata": {},
          "execution_count": 13
        }
      ],
      "source": [
        "spark"
      ]
    },
    {
      "cell_type": "markdown",
      "metadata": {
        "id": "OuQIGExwctpy"
      },
      "source": [
        "## Imports"
      ]
    },
    {
      "cell_type": "code",
      "execution_count": 14,
      "metadata": {
        "id": "QTo-V_Tt9eoN"
      },
      "outputs": [],
      "source": [
        "import pandas as pd\n",
        "import numpy as np\n",
        "\n",
        "from pyspark.sql import functions as F\n",
        "# Import for typecasting columns\n",
        "from pyspark.sql.types import IntegerType,BooleanType,DateType,FloatType,StringType, ArrayType"
      ]
    },
    {
      "cell_type": "markdown",
      "metadata": {
        "id": "lJbriFKH9AwM"
      },
      "source": [
        "## Read the data"
      ]
    },
    {
      "cell_type": "code",
      "execution_count": 15,
      "metadata": {
        "id": "6fBd-ymZ85_e"
      },
      "outputs": [],
      "source": [
        "raw_ratings_df = (spark.read.csv(\"raw_ratings_small.csv\", # modify the path to read the data\n",
        "                                 header=True,\n",
        "                                 inferSchema= True))"
      ]
    },
    {
      "cell_type": "code",
      "execution_count": 17,
      "metadata": {
        "id": "dXuL1Sq09Akr"
      },
      "outputs": [],
      "source": [
        "raw_recipes_df = spark.read.csv(\"raw_recipies_small.csv\", # modify the path to read the data\n",
        "                                header=True,\n",
        "                                inferSchema=True)"
      ]
    },
    {
      "cell_type": "code",
      "source": [
        "assert (raw_recipes_df.count(), len(raw_recipes_df.columns)) == (20340, 13)\n",
        "assert (raw_ratings_df.count(), len(raw_ratings_df.columns)) == (93357, 5)"
      ],
      "metadata": {
        "id": "Mkaj1BabtAg1"
      },
      "execution_count": 18,
      "outputs": []
    },
    {
      "cell_type": "markdown",
      "metadata": {
        "id": "lILWFlP-9tKr"
      },
      "source": [
        "#### Decide a split date based on the ratings dataframe."
      ]
    },
    {
      "cell_type": "code",
      "execution_count": 19,
      "metadata": {
        "id": "COU5Qg1A-CT7"
      },
      "outputs": [],
      "source": [
        "# Find the number of data points in the interaction dataset.\n",
        "# You can use the count() method.\n",
        "# The output must be an integer.\n",
        "\n",
        "num_review_int = raw_ratings_df.count()"
      ]
    },
    {
      "cell_type": "markdown",
      "metadata": {
        "id": "Ea0ZeHC0JXjy"
      },
      "source": [
        "#### Task 01 - Train Test Split\n",
        "\n",
        "Divide the data into train and test based on the 80 - 20 split using the approach discussed. You will have to save the data in a parquet file."
      ]
    },
    {
      "cell_type": "code",
      "execution_count": 20,
      "metadata": {
        "id": "gz8RpPOo-CSO"
      },
      "outputs": [],
      "source": [
        "test_num_reviews_int = round(num_review_int *0.2)"
      ]
    },
    {
      "cell_type": "code",
      "execution_count": 21,
      "metadata": {
        "id": "1uBP9W-t-CPm"
      },
      "outputs": [],
      "source": [
        "# Sort the interactions dataset in descending order of review date.\n",
        "# Extract ```test_num_reviews_int``` most recent reviews.\n",
        "\n",
        "temp_ratings_df = (raw_ratings_df.sort(\"review_date\", ascending=False)\n",
        "                                 .limit(test_num_reviews_int)\n",
        "                  )"
      ]
    },
    {
      "cell_type": "code",
      "source": [
        "assert temp_ratings_df.count()  == 18671\n",
        "assert raw_recipes_df.collect()[11][4] <= raw_recipes_df.collect()[10][4]"
      ],
      "metadata": {
        "id": "TxxjUoxvtJta"
      },
      "execution_count": 22,
      "outputs": []
    },
    {
      "cell_type": "code",
      "execution_count": 23,
      "metadata": {
        "colab": {
          "base_uri": "https://localhost:8080/",
          "height": 35
        },
        "id": "vC5khu2X-CIj",
        "outputId": "9349d1ed-484f-44e4-a9aa-1879f696fa42"
      },
      "outputs": [
        {
          "output_type": "execute_result",
          "data": {
            "text/plain": [
              "'2011-07-17'"
            ],
            "application/vnd.google.colaboratory.intrinsic+json": {
              "type": "string"
            }
          },
          "metadata": {},
          "execution_count": 23
        }
      ],
      "source": [
        "temp_ratings_df.collect()[-1][4]"
      ]
    },
    {
      "cell_type": "markdown",
      "metadata": {
        "id": "ZTKyBLjFJTmr"
      },
      "source": [
        "Split the data into two parts before and after 2011-07-17.\n",
        "\n",
        "- All reviews in the ratings data after 2011-07-17 will not exsist in the training set.\n",
        "- For all future predictions the date will be set at 2011-07-18.   "
      ]
    },
    {
      "cell_type": "code",
      "execution_count": 26,
      "metadata": {
        "id": "cCuNwQMEhBPi"
      },
      "outputs": [],
      "source": [
        "# Join raw_recipes and raw_ratings\n",
        "# Use recipe_id as the key to join these dataframes\n",
        "# The resulting dataframe must have all rows from the raw_ratings dataframe.\n",
        "\n",
        "interaction_level_df = raw_ratings_df.join(raw_recipes_df.withColumnRenamed('id','recipe_id'),['recipe_id'],'left')"
      ]
    },
    {
      "cell_type": "code",
      "execution_count": 30,
      "metadata": {
        "id": "orclWiSCKkw7"
      },
      "outputs": [],
      "source": [
        "# Use the filter command to separate the datasets.\n",
        "# All interactions which were rated BEFORE '2011-07-17' will be train data.\n",
        "\n",
        "train_interaction_level_df  = (interaction_level_df.filter(col(\"review_date\") < '2011-07-17'))"
      ]
    },
    {
      "cell_type": "code",
      "execution_count": 31,
      "metadata": {
        "id": "sdyQsB2tiE04"
      },
      "outputs": [],
      "source": [
        "# Use the filter command to separate the datasets.\n",
        "# All interactions which were rated ON OR AFTER '2011-07-17' will be test data.\n",
        "\n",
        "test_interaction_level_all_recipies_df  = (interaction_level_df.filter(col(\"review_date\") > '2011-07-17'))"
      ]
    },
    {
      "cell_type": "code",
      "source": [
        "assert (test_interaction_level_all_recipies_df.count(), len(test_interaction_level_all_recipies_df.columns)) == (18660, 17)\n",
        "assert (train_interaction_level_df.count(), len(train_interaction_level_df.columns)) == (74673, 17)"
      ],
      "metadata": {
        "id": "VTjbMPoCtV2u"
      },
      "execution_count": 35,
      "outputs": []
    },
    {
      "cell_type": "code",
      "execution_count": 36,
      "metadata": {
        "id": "hPnT-UZ5IwDa"
      },
      "outputs": [],
      "source": [
        "# create data files for modeling\n",
        "\n",
        "(train_interaction_level_df.coalesce(1)\n",
        "                           .write.mode('overwrite')\n",
        "                           .parquet('train_interaction_level_df.parquet'))  # change the file name and file path\n",
        "\n",
        "(test_interaction_level_all_recipies_df.coalesce(1)\n",
        "                                       .write.mode('overwrite')\n",
        "                                       .parquet('test_interaction_level_df.parquet'))  # change the file name and file path"
      ]
    }
  ],
  "metadata": {
    "colab": {
      "provenance": []
    },
    "kernelspec": {
      "display_name": "Python 3",
      "name": "python3"
    },
    "language_info": {
      "name": "python"
    }
  },
  "nbformat": 4,
  "nbformat_minor": 0
}
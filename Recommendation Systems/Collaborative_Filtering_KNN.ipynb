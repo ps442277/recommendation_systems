{
  "nbformat": 4,
  "nbformat_minor": 0,
  "metadata": {
    "colab": {
      "provenance": [],
      "collapsed_sections": [],
      "toc_visible": true
    },
    "kernelspec": {
      "name": "python3",
      "display_name": "Python 3"
    },
    "language_info": {
      "name": "python"
    }
  },
  "cells": [
    {
      "cell_type": "markdown",
      "source": [
        "### Set up google drive for package development\n",
        "\n",
        "1. Install nbdev and fastcore package\n",
        "2. Mount your google drive\n",
        "3. Change to package directory\n",
        "4. Load the data\n"
      ],
      "metadata": {
        "id": "QfvGGszdMyH6"
      }
    },
    {
      "cell_type": "code",
      "source": [
        "# installing required packages\n",
        "!pip install -U nbdev\n",
        "!pip install fastcore -U # to deal with !nbdev_build_lib"
      ],
      "metadata": {
        "colab": {
          "base_uri": "https://localhost:8080/"
        },
        "id": "nchbi2_z7cVO",
        "outputId": "d83e4874-8c54-44b1-d242-13984b3d6821"
      },
      "execution_count": null,
      "outputs": [
        {
          "output_type": "stream",
          "name": "stdout",
          "text": [
            "Looking in indexes: https://pypi.org/simple, https://us-python.pkg.dev/colab-wheels/public/simple/\n",
            "Requirement already satisfied: nbdev in /usr/local/lib/python3.7/dist-packages (2.2.10)\n",
            "Requirement already satisfied: astunparse in /usr/local/lib/python3.7/dist-packages (from nbdev) (1.6.3)\n",
            "Requirement already satisfied: PyYAML in /usr/local/lib/python3.7/dist-packages (from nbdev) (6.0)\n",
            "Requirement already satisfied: fastcore>=1.5.24 in /usr/local/lib/python3.7/dist-packages (from nbdev) (1.5.26)\n",
            "Requirement already satisfied: ghapi>=1.0.2 in /usr/local/lib/python3.7/dist-packages (from nbdev) (1.0.2)\n",
            "Requirement already satisfied: execnb>=0.1.2 in /usr/local/lib/python3.7/dist-packages (from nbdev) (0.1.3)\n",
            "Requirement already satisfied: asttokens in /usr/local/lib/python3.7/dist-packages (from nbdev) (2.0.8)\n",
            "Requirement already satisfied: ipython in /usr/local/lib/python3.7/dist-packages (from execnb>=0.1.2->nbdev) (7.9.0)\n",
            "Requirement already satisfied: packaging in /usr/local/lib/python3.7/dist-packages (from fastcore>=1.5.24->nbdev) (21.3)\n",
            "Requirement already satisfied: pip in /usr/local/lib/python3.7/dist-packages (from fastcore>=1.5.24->nbdev) (21.1.3)\n",
            "Requirement already satisfied: six in /usr/local/lib/python3.7/dist-packages (from asttokens->nbdev) (1.15.0)\n",
            "Requirement already satisfied: wheel<1.0,>=0.23.0 in /usr/local/lib/python3.7/dist-packages (from astunparse->nbdev) (0.37.1)\n",
            "Requirement already satisfied: pygments in /usr/local/lib/python3.7/dist-packages (from ipython->execnb>=0.1.2->nbdev) (2.6.1)\n",
            "Requirement already satisfied: decorator in /usr/local/lib/python3.7/dist-packages (from ipython->execnb>=0.1.2->nbdev) (4.4.2)\n",
            "Requirement already satisfied: setuptools>=18.5 in /usr/local/lib/python3.7/dist-packages (from ipython->execnb>=0.1.2->nbdev) (57.4.0)\n",
            "Requirement already satisfied: jedi>=0.10 in /usr/local/lib/python3.7/dist-packages (from ipython->execnb>=0.1.2->nbdev) (0.18.1)\n",
            "Requirement already satisfied: backcall in /usr/local/lib/python3.7/dist-packages (from ipython->execnb>=0.1.2->nbdev) (0.2.0)\n",
            "Requirement already satisfied: prompt-toolkit<2.1.0,>=2.0.0 in /usr/local/lib/python3.7/dist-packages (from ipython->execnb>=0.1.2->nbdev) (2.0.10)\n",
            "Requirement already satisfied: pexpect in /usr/local/lib/python3.7/dist-packages (from ipython->execnb>=0.1.2->nbdev) (4.8.0)\n",
            "Requirement already satisfied: traitlets>=4.2 in /usr/local/lib/python3.7/dist-packages (from ipython->execnb>=0.1.2->nbdev) (5.1.1)\n",
            "Requirement already satisfied: pickleshare in /usr/local/lib/python3.7/dist-packages (from ipython->execnb>=0.1.2->nbdev) (0.7.5)\n",
            "Requirement already satisfied: parso<0.9.0,>=0.8.0 in /usr/local/lib/python3.7/dist-packages (from jedi>=0.10->ipython->execnb>=0.1.2->nbdev) (0.8.3)\n",
            "Requirement already satisfied: wcwidth in /usr/local/lib/python3.7/dist-packages (from prompt-toolkit<2.1.0,>=2.0.0->ipython->execnb>=0.1.2->nbdev) (0.2.5)\n",
            "Requirement already satisfied: pyparsing!=3.0.5,>=2.0.2 in /usr/local/lib/python3.7/dist-packages (from packaging->fastcore>=1.5.24->nbdev) (3.0.9)\n",
            "Requirement already satisfied: ptyprocess>=0.5 in /usr/local/lib/python3.7/dist-packages (from pexpect->ipython->execnb>=0.1.2->nbdev) (0.7.0)\n",
            "Looking in indexes: https://pypi.org/simple, https://us-python.pkg.dev/colab-wheels/public/simple/\n",
            "Requirement already satisfied: fastcore in /usr/local/lib/python3.7/dist-packages (1.5.26)\n",
            "Requirement already satisfied: pip in /usr/local/lib/python3.7/dist-packages (from fastcore) (21.1.3)\n",
            "Requirement already satisfied: packaging in /usr/local/lib/python3.7/dist-packages (from fastcore) (21.3)\n",
            "Requirement already satisfied: pyparsing!=3.0.5,>=2.0.2 in /usr/local/lib/python3.7/dist-packages (from packaging->fastcore) (3.0.9)\n"
          ]
        }
      ]
    },
    {
      "cell_type": "code",
      "source": [
        "# mounting drive\n",
        "from google.colab import drive\n",
        "drive.mount('/content/drive')"
      ],
      "metadata": {
        "colab": {
          "base_uri": "https://localhost:8080/"
        },
        "id": "lUxuhPED7jLl",
        "outputId": "21de2072-62c3-4478-dae6-19447b7abfe1"
      },
      "execution_count": null,
      "outputs": [
        {
          "output_type": "stream",
          "name": "stdout",
          "text": [
            "Drive already mounted at /content/drive; to attempt to forcibly remount, call drive.mount(\"/content/drive\", force_remount=True).\n"
          ]
        }
      ]
    },
    {
      "cell_type": "code",
      "source": [
        "# installing fuzzywuzzy\n",
        "!pip install fuzzywuzzy"
      ],
      "metadata": {
        "colab": {
          "base_uri": "https://localhost:8080/"
        },
        "id": "FmLkAGS9pcSK",
        "outputId": "dd066090-2d53-41b9-e965-3c39a779e752"
      },
      "execution_count": null,
      "outputs": [
        {
          "output_type": "stream",
          "name": "stdout",
          "text": [
            "Looking in indexes: https://pypi.org/simple, https://us-python.pkg.dev/colab-wheels/public/simple/\n",
            "Requirement already satisfied: fuzzywuzzy in /usr/local/lib/python3.7/dist-packages (0.18.0)\n"
          ]
        }
      ]
    },
    {
      "cell_type": "code",
      "source": [
        "import os\n",
        "import time\n",
        "\n",
        "# data science imports\n",
        "import math\n",
        "import numpy as np\n",
        "import pandas as pd\n",
        "from scipy.sparse import csr_matrix\n",
        "from sklearn.neighbors import NearestNeighbors\n",
        "\n",
        "# utils import\n",
        "from fuzzywuzzy import fuzz\n",
        "\n",
        "# visualization imports\n",
        "import seaborn as sns\n",
        "import matplotlib.pyplot as plt\n",
        "plt.style.use('ggplot')\n",
        "\n",
        "\n",
        "%matplotlib inline"
      ],
      "metadata": {
        "id": "uqhQd11u8NDQ"
      },
      "execution_count": null,
      "outputs": []
    },
    {
      "cell_type": "markdown",
      "source": [
        "# Overview\n",
        "\n",
        "In this project, we will build an `item-based collaborative filtering` system using [MovieLens Datasets](https://grouplens.org/datasets/movielens/latest/). \n",
        "\n",
        "We will train a KNN model to cluster similar movies based on users' ratings and make movie recommendations based on similarity scores of previously rated movies."
      ],
      "metadata": {
        "id": "AUHGQFHcmr9w"
      }
    },
    {
      "cell_type": "markdown",
      "source": [
        "## Recommender Systems\n",
        "\n",
        "**Introduction**\n",
        "\n",
        "A [Recommender system](https://en.wikipedia.org/wiki/Recommender_system) is an information filtering system that seeks to predict the \"rating\" or \"preference\" a user would give to an item. \n",
        "\n",
        "**Types of Recommender Systems**\n",
        "\n",
        "Recommender systems can be loosely broken down into three categories: `content based`, `collaborative filtering`, and `hybrid`.\n",
        "\n",
        "\n",
        "- `Content-based recommenders` use the features of items to recommend other similar items. e.g., If I browse Nike soccer shoes on amazon.com, other shoes with similar features (color, type, price, etc.) would be shown on the webpage. I could also be shown similar sports items, e.g., soccer.\n",
        "\n",
        "![Screen Shot 2022-08-26 at 9.21.16 PM.png](data:image/png;base64,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)\n",
        "\n",
        "- `Collaborative filtering recommenders` use user-item interaction (matrix) to recommend items to a user.\n",
        "\n",
        "**Types of Collaborative Filtering Recommender Systems**\n",
        "\n",
        "Collaborative filtering can be either user-based or item-based:\n",
        "\n",
        "  - `user-based collaborative filtering` recommends\n",
        "  `items preferred by users that behave like target user`\n",
        "\n",
        "![Screen Shot 2022-08-26 at 9.27.34 PM.png](data:image/png;base64,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)\n",
        "\n",
        "  - `item-based collaborative filtering` recommends `items similar to items preferred by target user`\n",
        "\n",
        "![Screen Shot 2022-08-26 at 9.27.42 PM.png](data:image/png;base64,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)\n",
        "\n",
        "**User-based vs. Item-Based Collaborative Filtering**\n",
        "\n",
        "> `item-based collaborative filtering` is preferred over `user-based collaborative filtering` because item-based can be computed offline, thus more scalable to a large dataset.\n",
        "\n",
        "This is because user behavior changes more frequently and more drastically than item-based characteristics.\n",
        "\n",
        "**Matrix Representation**\n",
        "\n",
        "If item-user interactions are organized by items being rows and users being columns, we have `df_iu`:\n",
        "\n",
        "![Screen Shot 2022-08-26 at 9.45.39 PM.png](data:image/png;base64,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)\n",
        "\n",
        "df_iu: an item-user interaction dataframe with \n",
        "- `row i` as item $i$ \n",
        "- `column j` as user $j$\n",
        "- `entry` $(i,j)$ as rating of item $i$  by user $j$\n",
        "\n",
        "> `df_iu` is a collection of m items; each item has n features which are the rating of each user to this item.\n",
        "\n",
        "Similarly, if the item-user interactions are organized by users being rows and items being a column, we have `df_ui`. You can work out the details as shown in `df_iu`.\n",
        "\n",
        "Reference: [Item-based Collaborative Filtering](https://beckernick.github.io/music_recommender/)\n",
        "\n",
        "\n",
        "## Data Sets\n",
        "We will use the `MovieLens Datasets`, which you can download [here](https://grouplens.org/datasets/movielens/latest/).\n",
        "\n",
        "This dataset (ml-latest.zip) describes a 5-star rating and free-text tagging activity from [MovieLens](http://movielens.org), a movie recommendation service. It contains 27753444 ratings and 1108997 tag applications across 58098 movies. These data were created by 283228 users between January 09, 1995, and September 26, 2018. This dataset was generated on September 26, 2018.\n",
        "\n",
        "Users were selected at random for inclusion. All selected users had rated at least one movie. No demographic information is included. Each user is represented by an id, and no other information is provided.\n",
        "\n",
        "The data are contained in the files `genome-scores.csv`, `genome-tags.csv`, `links.csv`, `movies.csv`, `ratings.csv` and `tags.csv`.\n",
        "\n",
        "## Project Content\n",
        "1. Load data\n",
        "2. Exploratory data analysis\n",
        "3. Train the KNN model for item-based collaborative filtering\n",
        "4. Use this trained model to make movie recommendations for me\n",
        "5. Deep dive into the bottleneck of item-based collaborative filtering.\n",
        " - cold start problem\n",
        " - data sparsity problem\n",
        " - popularity bias (how to recommend products from the tail of product distribution)\n",
        " - scalability bottleneck\n",
        "6. Further study"
      ],
      "metadata": {
        "id": "TADG8r2KnA4F"
      }
    },
    {
      "cell_type": "markdown",
      "source": [
        "## 1. Load Data"
      ],
      "metadata": {
        "id": "7am4FYdxoL7c"
      }
    },
    {
      "cell_type": "markdown",
      "source": [
        "Instead of using string values such as `'userId'`, `'movieId'` etc, in the notebook, we'll define a global variable at the start that will be set to these strings. \n",
        "\n",
        "This will help us switch around `user id` and `item id` easily and enhance the reusability of the code."
      ],
      "metadata": {
        "id": "XxX2thgfoXPY"
      }
    },
    {
      "cell_type": "code",
      "source": [
        "u_id = 'userId'\n",
        "i_id = 'movieId'\n",
        "rating = 'rating'"
      ],
      "metadata": {
        "id": "ubAcl-9rouE1"
      },
      "execution_count": null,
      "outputs": []
    },
    {
      "cell_type": "code",
      "source": [
        "# load item data\n",
        "df_i = pd.read_csv(\n",
        "    'drive/MyDrive/amazing_recommender/movies.csv',\n",
        "    usecols=[i_id, 'title'],\n",
        "    dtype={i_id: 'int32', 'title': 'str'})\n",
        "\n",
        "# load item-user interaction data\n",
        "df_iu = pd.read_csv(\n",
        "    'drive/MyDrive/amazing_recommender/ratings.csv',\n",
        "    usecols=[u_id, i_id, rating],\n",
        "    dtype={u_id: 'int32', i_id: 'int32', rating: 'float32'})"
      ],
      "metadata": {
        "id": "kVtOcmlmBZ2y"
      },
      "execution_count": null,
      "outputs": []
    },
    {
      "cell_type": "code",
      "source": [
        "df_i.info()"
      ],
      "metadata": {
        "colab": {
          "base_uri": "https://localhost:8080/"
        },
        "id": "1eCpCwGsoz3K",
        "outputId": "8208e710-2654-405b-b761-23eece60b52b"
      },
      "execution_count": null,
      "outputs": [
        {
          "output_type": "stream",
          "name": "stdout",
          "text": [
            "<class 'pandas.core.frame.DataFrame'>\n",
            "RangeIndex: 9742 entries, 0 to 9741\n",
            "Data columns (total 2 columns):\n",
            " #   Column   Non-Null Count  Dtype \n",
            "---  ------   --------------  ----- \n",
            " 0   movieId  9742 non-null   int32 \n",
            " 1   title    9742 non-null   object\n",
            "dtypes: int32(1), object(1)\n",
            "memory usage: 114.3+ KB\n"
          ]
        }
      ]
    },
    {
      "cell_type": "code",
      "source": [
        "df_iu.info()"
      ],
      "metadata": {
        "colab": {
          "base_uri": "https://localhost:8080/"
        },
        "id": "ZtvyDL-yo24j",
        "outputId": "0661e1c1-6362-41b3-e193-523f606f351d"
      },
      "execution_count": null,
      "outputs": [
        {
          "output_type": "stream",
          "name": "stdout",
          "text": [
            "<class 'pandas.core.frame.DataFrame'>\n",
            "RangeIndex: 100836 entries, 0 to 100835\n",
            "Data columns (total 3 columns):\n",
            " #   Column   Non-Null Count   Dtype  \n",
            "---  ------   --------------   -----  \n",
            " 0   userId   100836 non-null  int32  \n",
            " 1   movieId  100836 non-null  int32  \n",
            " 2   rating   100836 non-null  float32\n",
            "dtypes: float32(1), int32(2)\n",
            "memory usage: 1.2 MB\n"
          ]
        }
      ]
    },
    {
      "cell_type": "code",
      "source": [
        "df_i.tail()"
      ],
      "metadata": {
        "colab": {
          "base_uri": "https://localhost:8080/",
          "height": 206
        },
        "id": "5Vxd_yjeo9xT",
        "outputId": "e3ef695a-3f60-4c0e-bb58-7a0506427d35"
      },
      "execution_count": null,
      "outputs": [
        {
          "output_type": "execute_result",
          "data": {
            "text/plain": [
              "      movieId                                      title\n",
              "9737   193581  Black Butler: Book of the Atlantic (2017)\n",
              "9738   193583               No Game No Life: Zero (2017)\n",
              "9739   193585                               Flint (2017)\n",
              "9740   193587        Bungo Stray Dogs: Dead Apple (2018)\n",
              "9741   193609        Andrew Dice Clay: Dice Rules (1991)"
            ],
            "text/html": [
              "\n",
              "  <div id=\"df-15cb9d55-89be-4993-ac5a-7ab1a8aa0d82\">\n",
              "    <div class=\"colab-df-container\">\n",
              "      <div>\n",
              "<style scoped>\n",
              "    .dataframe tbody tr th:only-of-type {\n",
              "        vertical-align: middle;\n",
              "    }\n",
              "\n",
              "    .dataframe tbody tr th {\n",
              "        vertical-align: top;\n",
              "    }\n",
              "\n",
              "    .dataframe thead th {\n",
              "        text-align: right;\n",
              "    }\n",
              "</style>\n",
              "<table border=\"1\" class=\"dataframe\">\n",
              "  <thead>\n",
              "    <tr style=\"text-align: right;\">\n",
              "      <th></th>\n",
              "      <th>movieId</th>\n",
              "      <th>title</th>\n",
              "    </tr>\n",
              "  </thead>\n",
              "  <tbody>\n",
              "    <tr>\n",
              "      <th>9737</th>\n",
              "      <td>193581</td>\n",
              "      <td>Black Butler: Book of the Atlantic (2017)</td>\n",
              "    </tr>\n",
              "    <tr>\n",
              "      <th>9738</th>\n",
              "      <td>193583</td>\n",
              "      <td>No Game No Life: Zero (2017)</td>\n",
              "    </tr>\n",
              "    <tr>\n",
              "      <th>9739</th>\n",
              "      <td>193585</td>\n",
              "      <td>Flint (2017)</td>\n",
              "    </tr>\n",
              "    <tr>\n",
              "      <th>9740</th>\n",
              "      <td>193587</td>\n",
              "      <td>Bungo Stray Dogs: Dead Apple (2018)</td>\n",
              "    </tr>\n",
              "    <tr>\n",
              "      <th>9741</th>\n",
              "      <td>193609</td>\n",
              "      <td>Andrew Dice Clay: Dice Rules (1991)</td>\n",
              "    </tr>\n",
              "  </tbody>\n",
              "</table>\n",
              "</div>\n",
              "      <button class=\"colab-df-convert\" onclick=\"convertToInteractive('df-15cb9d55-89be-4993-ac5a-7ab1a8aa0d82')\"\n",
              "              title=\"Convert this dataframe to an interactive table.\"\n",
              "              style=\"display:none;\">\n",
              "        \n",
              "  <svg xmlns=\"http://www.w3.org/2000/svg\" height=\"24px\"viewBox=\"0 0 24 24\"\n",
              "       width=\"24px\">\n",
              "    <path d=\"M0 0h24v24H0V0z\" fill=\"none\"/>\n",
              "    <path d=\"M18.56 5.44l.94 2.06.94-2.06 2.06-.94-2.06-.94-.94-2.06-.94 2.06-2.06.94zm-11 1L8.5 8.5l.94-2.06 2.06-.94-2.06-.94L8.5 2.5l-.94 2.06-2.06.94zm10 10l.94 2.06.94-2.06 2.06-.94-2.06-.94-.94-2.06-.94 2.06-2.06.94z\"/><path d=\"M17.41 7.96l-1.37-1.37c-.4-.4-.92-.59-1.43-.59-.52 0-1.04.2-1.43.59L10.3 9.45l-7.72 7.72c-.78.78-.78 2.05 0 2.83L4 21.41c.39.39.9.59 1.41.59.51 0 1.02-.2 1.41-.59l7.78-7.78 2.81-2.81c.8-.78.8-2.07 0-2.86zM5.41 20L4 18.59l7.72-7.72 1.47 1.35L5.41 20z\"/>\n",
              "  </svg>\n",
              "      </button>\n",
              "      \n",
              "  <style>\n",
              "    .colab-df-container {\n",
              "      display:flex;\n",
              "      flex-wrap:wrap;\n",
              "      gap: 12px;\n",
              "    }\n",
              "\n",
              "    .colab-df-convert {\n",
              "      background-color: #E8F0FE;\n",
              "      border: none;\n",
              "      border-radius: 50%;\n",
              "      cursor: pointer;\n",
              "      display: none;\n",
              "      fill: #1967D2;\n",
              "      height: 32px;\n",
              "      padding: 0 0 0 0;\n",
              "      width: 32px;\n",
              "    }\n",
              "\n",
              "    .colab-df-convert:hover {\n",
              "      background-color: #E2EBFA;\n",
              "      box-shadow: 0px 1px 2px rgba(60, 64, 67, 0.3), 0px 1px 3px 1px rgba(60, 64, 67, 0.15);\n",
              "      fill: #174EA6;\n",
              "    }\n",
              "\n",
              "    [theme=dark] .colab-df-convert {\n",
              "      background-color: #3B4455;\n",
              "      fill: #D2E3FC;\n",
              "    }\n",
              "\n",
              "    [theme=dark] .colab-df-convert:hover {\n",
              "      background-color: #434B5C;\n",
              "      box-shadow: 0px 1px 3px 1px rgba(0, 0, 0, 0.15);\n",
              "      filter: drop-shadow(0px 1px 2px rgba(0, 0, 0, 0.3));\n",
              "      fill: #FFFFFF;\n",
              "    }\n",
              "  </style>\n",
              "\n",
              "      <script>\n",
              "        const buttonEl =\n",
              "          document.querySelector('#df-15cb9d55-89be-4993-ac5a-7ab1a8aa0d82 button.colab-df-convert');\n",
              "        buttonEl.style.display =\n",
              "          google.colab.kernel.accessAllowed ? 'block' : 'none';\n",
              "\n",
              "        async function convertToInteractive(key) {\n",
              "          const element = document.querySelector('#df-15cb9d55-89be-4993-ac5a-7ab1a8aa0d82');\n",
              "          const dataTable =\n",
              "            await google.colab.kernel.invokeFunction('convertToInteractive',\n",
              "                                                     [key], {});\n",
              "          if (!dataTable) return;\n",
              "\n",
              "          const docLinkHtml = 'Like what you see? Visit the ' +\n",
              "            '<a target=\"_blank\" href=https://colab.research.google.com/notebooks/data_table.ipynb>data table notebook</a>'\n",
              "            + ' to learn more about interactive tables.';\n",
              "          element.innerHTML = '';\n",
              "          dataTable['output_type'] = 'display_data';\n",
              "          await google.colab.output.renderOutput(dataTable, element);\n",
              "          const docLink = document.createElement('div');\n",
              "          docLink.innerHTML = docLinkHtml;\n",
              "          element.appendChild(docLink);\n",
              "        }\n",
              "      </script>\n",
              "    </div>\n",
              "  </div>\n",
              "  "
            ]
          },
          "metadata": {},
          "execution_count": 58
        }
      ]
    },
    {
      "cell_type": "code",
      "source": [
        "df_iu.tail()"
      ],
      "metadata": {
        "colab": {
          "base_uri": "https://localhost:8080/",
          "height": 206
        },
        "id": "o8lv8joho_n8",
        "outputId": "76d282f7-1763-48d8-8cb7-68b6d3e07e84"
      },
      "execution_count": null,
      "outputs": [
        {
          "output_type": "execute_result",
          "data": {
            "text/plain": [
              "        userId  movieId  rating\n",
              "100831     610   166534     4.0\n",
              "100832     610   168248     5.0\n",
              "100833     610   168250     5.0\n",
              "100834     610   168252     5.0\n",
              "100835     610   170875     3.0"
            ],
            "text/html": [
              "\n",
              "  <div id=\"df-e14b9d6b-f745-4077-b2ce-7d26c081f2be\">\n",
              "    <div class=\"colab-df-container\">\n",
              "      <div>\n",
              "<style scoped>\n",
              "    .dataframe tbody tr th:only-of-type {\n",
              "        vertical-align: middle;\n",
              "    }\n",
              "\n",
              "    .dataframe tbody tr th {\n",
              "        vertical-align: top;\n",
              "    }\n",
              "\n",
              "    .dataframe thead th {\n",
              "        text-align: right;\n",
              "    }\n",
              "</style>\n",
              "<table border=\"1\" class=\"dataframe\">\n",
              "  <thead>\n",
              "    <tr style=\"text-align: right;\">\n",
              "      <th></th>\n",
              "      <th>userId</th>\n",
              "      <th>movieId</th>\n",
              "      <th>rating</th>\n",
              "    </tr>\n",
              "  </thead>\n",
              "  <tbody>\n",
              "    <tr>\n",
              "      <th>100831</th>\n",
              "      <td>610</td>\n",
              "      <td>166534</td>\n",
              "      <td>4.0</td>\n",
              "    </tr>\n",
              "    <tr>\n",
              "      <th>100832</th>\n",
              "      <td>610</td>\n",
              "      <td>168248</td>\n",
              "      <td>5.0</td>\n",
              "    </tr>\n",
              "    <tr>\n",
              "      <th>100833</th>\n",
              "      <td>610</td>\n",
              "      <td>168250</td>\n",
              "      <td>5.0</td>\n",
              "    </tr>\n",
              "    <tr>\n",
              "      <th>100834</th>\n",
              "      <td>610</td>\n",
              "      <td>168252</td>\n",
              "      <td>5.0</td>\n",
              "    </tr>\n",
              "    <tr>\n",
              "      <th>100835</th>\n",
              "      <td>610</td>\n",
              "      <td>170875</td>\n",
              "      <td>3.0</td>\n",
              "    </tr>\n",
              "  </tbody>\n",
              "</table>\n",
              "</div>\n",
              "      <button class=\"colab-df-convert\" onclick=\"convertToInteractive('df-e14b9d6b-f745-4077-b2ce-7d26c081f2be')\"\n",
              "              title=\"Convert this dataframe to an interactive table.\"\n",
              "              style=\"display:none;\">\n",
              "        \n",
              "  <svg xmlns=\"http://www.w3.org/2000/svg\" height=\"24px\"viewBox=\"0 0 24 24\"\n",
              "       width=\"24px\">\n",
              "    <path d=\"M0 0h24v24H0V0z\" fill=\"none\"/>\n",
              "    <path d=\"M18.56 5.44l.94 2.06.94-2.06 2.06-.94-2.06-.94-.94-2.06-.94 2.06-2.06.94zm-11 1L8.5 8.5l.94-2.06 2.06-.94-2.06-.94L8.5 2.5l-.94 2.06-2.06.94zm10 10l.94 2.06.94-2.06 2.06-.94-2.06-.94-.94-2.06-.94 2.06-2.06.94z\"/><path d=\"M17.41 7.96l-1.37-1.37c-.4-.4-.92-.59-1.43-.59-.52 0-1.04.2-1.43.59L10.3 9.45l-7.72 7.72c-.78.78-.78 2.05 0 2.83L4 21.41c.39.39.9.59 1.41.59.51 0 1.02-.2 1.41-.59l7.78-7.78 2.81-2.81c.8-.78.8-2.07 0-2.86zM5.41 20L4 18.59l7.72-7.72 1.47 1.35L5.41 20z\"/>\n",
              "  </svg>\n",
              "      </button>\n",
              "      \n",
              "  <style>\n",
              "    .colab-df-container {\n",
              "      display:flex;\n",
              "      flex-wrap:wrap;\n",
              "      gap: 12px;\n",
              "    }\n",
              "\n",
              "    .colab-df-convert {\n",
              "      background-color: #E8F0FE;\n",
              "      border: none;\n",
              "      border-radius: 50%;\n",
              "      cursor: pointer;\n",
              "      display: none;\n",
              "      fill: #1967D2;\n",
              "      height: 32px;\n",
              "      padding: 0 0 0 0;\n",
              "      width: 32px;\n",
              "    }\n",
              "\n",
              "    .colab-df-convert:hover {\n",
              "      background-color: #E2EBFA;\n",
              "      box-shadow: 0px 1px 2px rgba(60, 64, 67, 0.3), 0px 1px 3px 1px rgba(60, 64, 67, 0.15);\n",
              "      fill: #174EA6;\n",
              "    }\n",
              "\n",
              "    [theme=dark] .colab-df-convert {\n",
              "      background-color: #3B4455;\n",
              "      fill: #D2E3FC;\n",
              "    }\n",
              "\n",
              "    [theme=dark] .colab-df-convert:hover {\n",
              "      background-color: #434B5C;\n",
              "      box-shadow: 0px 1px 3px 1px rgba(0, 0, 0, 0.15);\n",
              "      filter: drop-shadow(0px 1px 2px rgba(0, 0, 0, 0.3));\n",
              "      fill: #FFFFFF;\n",
              "    }\n",
              "  </style>\n",
              "\n",
              "      <script>\n",
              "        const buttonEl =\n",
              "          document.querySelector('#df-e14b9d6b-f745-4077-b2ce-7d26c081f2be button.colab-df-convert');\n",
              "        buttonEl.style.display =\n",
              "          google.colab.kernel.accessAllowed ? 'block' : 'none';\n",
              "\n",
              "        async function convertToInteractive(key) {\n",
              "          const element = document.querySelector('#df-e14b9d6b-f745-4077-b2ce-7d26c081f2be');\n",
              "          const dataTable =\n",
              "            await google.colab.kernel.invokeFunction('convertToInteractive',\n",
              "                                                     [key], {});\n",
              "          if (!dataTable) return;\n",
              "\n",
              "          const docLinkHtml = 'Like what you see? Visit the ' +\n",
              "            '<a target=\"_blank\" href=https://colab.research.google.com/notebooks/data_table.ipynb>data table notebook</a>'\n",
              "            + ' to learn more about interactive tables.';\n",
              "          element.innerHTML = '';\n",
              "          dataTable['output_type'] = 'display_data';\n",
              "          await google.colab.output.renderOutput(dataTable, element);\n",
              "          const docLink = document.createElement('div');\n",
              "          docLink.innerHTML = docLinkHtml;\n",
              "          element.appendChild(docLink);\n",
              "        }\n",
              "      </script>\n",
              "    </div>\n",
              "  </div>\n",
              "  "
            ]
          },
          "metadata": {},
          "execution_count": 59
        }
      ]
    },
    {
      "cell_type": "code",
      "source": [
        "num_users = len(df_iu.userId.unique())\n",
        "num_items = len(df_iu.movieId.unique())\n",
        "print('There are {} unique users and {} unique movies in this data set'.format(num_users, num_items))"
      ],
      "metadata": {
        "colab": {
          "base_uri": "https://localhost:8080/"
        },
        "id": "aoALzy7XpMSj",
        "outputId": "adcbecb0-ab30-47f5-a151-890acdbd9e78"
      },
      "execution_count": null,
      "outputs": [
        {
          "output_type": "stream",
          "name": "stdout",
          "text": [
            "There are 610 unique users and 9724 unique movies in this data set\n"
          ]
        }
      ]
    },
    {
      "cell_type": "markdown",
      "source": [
        "## 2. Exploratory data analysis\n",
        " - Plot the counts of each rating\n",
        " - Plot rating frequency of each movie"
      ],
      "metadata": {
        "id": "ezyH6bb4sO1-"
      }
    },
    {
      "cell_type": "markdown",
      "source": [
        "#### 1. Plot the counts of each rating"
      ],
      "metadata": {
        "id": "21YRVt8htVSg"
      }
    },
    {
      "cell_type": "markdown",
      "source": [
        "We first need to get the counts of each rating from rating data"
      ],
      "metadata": {
        "id": "it2F5_8etY_i"
      }
    },
    {
      "cell_type": "code",
      "source": [
        "# get count\n",
        "df_iu_cnt_tmp = pd.DataFrame(df_iu.groupby(rating).size(), columns=['count'])\n",
        "df_iu_cnt_tmp"
      ],
      "metadata": {
        "colab": {
          "base_uri": "https://localhost:8080/",
          "height": 394
        },
        "id": "JqYiGgNhtf5k",
        "outputId": "13a1e277-2fd5-4753-8e5c-bbe24b5eaa04"
      },
      "execution_count": null,
      "outputs": [
        {
          "output_type": "execute_result",
          "data": {
            "text/plain": [
              "        count\n",
              "rating       \n",
              "0.5      1370\n",
              "1.0      2811\n",
              "1.5      1791\n",
              "2.0      7551\n",
              "2.5      5550\n",
              "3.0     20047\n",
              "3.5     13136\n",
              "4.0     26818\n",
              "4.5      8551\n",
              "5.0     13211"
            ],
            "text/html": [
              "\n",
              "  <div id=\"df-beec92a0-f36e-478b-b621-2927fbac443d\">\n",
              "    <div class=\"colab-df-container\">\n",
              "      <div>\n",
              "<style scoped>\n",
              "    .dataframe tbody tr th:only-of-type {\n",
              "        vertical-align: middle;\n",
              "    }\n",
              "\n",
              "    .dataframe tbody tr th {\n",
              "        vertical-align: top;\n",
              "    }\n",
              "\n",
              "    .dataframe thead th {\n",
              "        text-align: right;\n",
              "    }\n",
              "</style>\n",
              "<table border=\"1\" class=\"dataframe\">\n",
              "  <thead>\n",
              "    <tr style=\"text-align: right;\">\n",
              "      <th></th>\n",
              "      <th>count</th>\n",
              "    </tr>\n",
              "    <tr>\n",
              "      <th>rating</th>\n",
              "      <th></th>\n",
              "    </tr>\n",
              "  </thead>\n",
              "  <tbody>\n",
              "    <tr>\n",
              "      <th>0.5</th>\n",
              "      <td>1370</td>\n",
              "    </tr>\n",
              "    <tr>\n",
              "      <th>1.0</th>\n",
              "      <td>2811</td>\n",
              "    </tr>\n",
              "    <tr>\n",
              "      <th>1.5</th>\n",
              "      <td>1791</td>\n",
              "    </tr>\n",
              "    <tr>\n",
              "      <th>2.0</th>\n",
              "      <td>7551</td>\n",
              "    </tr>\n",
              "    <tr>\n",
              "      <th>2.5</th>\n",
              "      <td>5550</td>\n",
              "    </tr>\n",
              "    <tr>\n",
              "      <th>3.0</th>\n",
              "      <td>20047</td>\n",
              "    </tr>\n",
              "    <tr>\n",
              "      <th>3.5</th>\n",
              "      <td>13136</td>\n",
              "    </tr>\n",
              "    <tr>\n",
              "      <th>4.0</th>\n",
              "      <td>26818</td>\n",
              "    </tr>\n",
              "    <tr>\n",
              "      <th>4.5</th>\n",
              "      <td>8551</td>\n",
              "    </tr>\n",
              "    <tr>\n",
              "      <th>5.0</th>\n",
              "      <td>13211</td>\n",
              "    </tr>\n",
              "  </tbody>\n",
              "</table>\n",
              "</div>\n",
              "      <button class=\"colab-df-convert\" onclick=\"convertToInteractive('df-beec92a0-f36e-478b-b621-2927fbac443d')\"\n",
              "              title=\"Convert this dataframe to an interactive table.\"\n",
              "              style=\"display:none;\">\n",
              "        \n",
              "  <svg xmlns=\"http://www.w3.org/2000/svg\" height=\"24px\"viewBox=\"0 0 24 24\"\n",
              "       width=\"24px\">\n",
              "    <path d=\"M0 0h24v24H0V0z\" fill=\"none\"/>\n",
              "    <path d=\"M18.56 5.44l.94 2.06.94-2.06 2.06-.94-2.06-.94-.94-2.06-.94 2.06-2.06.94zm-11 1L8.5 8.5l.94-2.06 2.06-.94-2.06-.94L8.5 2.5l-.94 2.06-2.06.94zm10 10l.94 2.06.94-2.06 2.06-.94-2.06-.94-.94-2.06-.94 2.06-2.06.94z\"/><path d=\"M17.41 7.96l-1.37-1.37c-.4-.4-.92-.59-1.43-.59-.52 0-1.04.2-1.43.59L10.3 9.45l-7.72 7.72c-.78.78-.78 2.05 0 2.83L4 21.41c.39.39.9.59 1.41.59.51 0 1.02-.2 1.41-.59l7.78-7.78 2.81-2.81c.8-.78.8-2.07 0-2.86zM5.41 20L4 18.59l7.72-7.72 1.47 1.35L5.41 20z\"/>\n",
              "  </svg>\n",
              "      </button>\n",
              "      \n",
              "  <style>\n",
              "    .colab-df-container {\n",
              "      display:flex;\n",
              "      flex-wrap:wrap;\n",
              "      gap: 12px;\n",
              "    }\n",
              "\n",
              "    .colab-df-convert {\n",
              "      background-color: #E8F0FE;\n",
              "      border: none;\n",
              "      border-radius: 50%;\n",
              "      cursor: pointer;\n",
              "      display: none;\n",
              "      fill: #1967D2;\n",
              "      height: 32px;\n",
              "      padding: 0 0 0 0;\n",
              "      width: 32px;\n",
              "    }\n",
              "\n",
              "    .colab-df-convert:hover {\n",
              "      background-color: #E2EBFA;\n",
              "      box-shadow: 0px 1px 2px rgba(60, 64, 67, 0.3), 0px 1px 3px 1px rgba(60, 64, 67, 0.15);\n",
              "      fill: #174EA6;\n",
              "    }\n",
              "\n",
              "    [theme=dark] .colab-df-convert {\n",
              "      background-color: #3B4455;\n",
              "      fill: #D2E3FC;\n",
              "    }\n",
              "\n",
              "    [theme=dark] .colab-df-convert:hover {\n",
              "      background-color: #434B5C;\n",
              "      box-shadow: 0px 1px 3px 1px rgba(0, 0, 0, 0.15);\n",
              "      filter: drop-shadow(0px 1px 2px rgba(0, 0, 0, 0.3));\n",
              "      fill: #FFFFFF;\n",
              "    }\n",
              "  </style>\n",
              "\n",
              "      <script>\n",
              "        const buttonEl =\n",
              "          document.querySelector('#df-beec92a0-f36e-478b-b621-2927fbac443d button.colab-df-convert');\n",
              "        buttonEl.style.display =\n",
              "          google.colab.kernel.accessAllowed ? 'block' : 'none';\n",
              "\n",
              "        async function convertToInteractive(key) {\n",
              "          const element = document.querySelector('#df-beec92a0-f36e-478b-b621-2927fbac443d');\n",
              "          const dataTable =\n",
              "            await google.colab.kernel.invokeFunction('convertToInteractive',\n",
              "                                                     [key], {});\n",
              "          if (!dataTable) return;\n",
              "\n",
              "          const docLinkHtml = 'Like what you see? Visit the ' +\n",
              "            '<a target=\"_blank\" href=https://colab.research.google.com/notebooks/data_table.ipynb>data table notebook</a>'\n",
              "            + ' to learn more about interactive tables.';\n",
              "          element.innerHTML = '';\n",
              "          dataTable['output_type'] = 'display_data';\n",
              "          await google.colab.output.renderOutput(dataTable, element);\n",
              "          const docLink = document.createElement('div');\n",
              "          docLink.innerHTML = docLinkHtml;\n",
              "          element.appendChild(docLink);\n",
              "        }\n",
              "      </script>\n",
              "    </div>\n",
              "  </div>\n",
              "  "
            ]
          },
          "metadata": {},
          "execution_count": 61
        }
      ]
    },
    {
      "cell_type": "markdown",
      "source": [
        "**Zero Ratings:**\n",
        "\n",
        "We'll use zero ratings in this dataset to represent a lack of rating for a given user-movie combination. This is how we are filling up none ratings here, and care must be taken not to use this approach for all recommender projects.\n",
        "\n",
        "We can see that the above table does not include counts of zero rating scores.\n",
        "\n",
        "So we need to add that in the rating count dataframe as well."
      ],
      "metadata": {
        "id": "ls2jXwhytkKC"
      }
    },
    {
      "cell_type": "code",
      "source": [
        "# there are a lot more counts in rating of zero\n",
        "total_cnt = num_users * num_items\n",
        "rating_zero_cnt = total_cnt - df_iu.shape[0]\n",
        "# append counts of zero rating to df_ratings_cnt\n",
        "df_iu_cnt = df_iu_cnt_tmp.append(\n",
        "    pd.DataFrame({'count': rating_zero_cnt}, index=[0.0]),\n",
        "    verify_integrity=True,\n",
        ").sort_index()\n",
        "df_iu_cnt"
      ],
      "metadata": {
        "colab": {
          "base_uri": "https://localhost:8080/",
          "height": 394
        },
        "id": "J7VjJI2jtqRz",
        "outputId": "a1ff1327-0f6d-4a2b-f67d-f9464da58ece"
      },
      "execution_count": null,
      "outputs": [
        {
          "output_type": "execute_result",
          "data": {
            "text/plain": [
              "       count\n",
              "0.0  5830804\n",
              "0.5     1370\n",
              "1.0     2811\n",
              "1.5     1791\n",
              "2.0     7551\n",
              "2.5     5550\n",
              "3.0    20047\n",
              "3.5    13136\n",
              "4.0    26818\n",
              "4.5     8551\n",
              "5.0    13211"
            ],
            "text/html": [
              "\n",
              "  <div id=\"df-758384cc-6c40-4ba2-ae94-888d4b12ec9a\">\n",
              "    <div class=\"colab-df-container\">\n",
              "      <div>\n",
              "<style scoped>\n",
              "    .dataframe tbody tr th:only-of-type {\n",
              "        vertical-align: middle;\n",
              "    }\n",
              "\n",
              "    .dataframe tbody tr th {\n",
              "        vertical-align: top;\n",
              "    }\n",
              "\n",
              "    .dataframe thead th {\n",
              "        text-align: right;\n",
              "    }\n",
              "</style>\n",
              "<table border=\"1\" class=\"dataframe\">\n",
              "  <thead>\n",
              "    <tr style=\"text-align: right;\">\n",
              "      <th></th>\n",
              "      <th>count</th>\n",
              "    </tr>\n",
              "  </thead>\n",
              "  <tbody>\n",
              "    <tr>\n",
              "      <th>0.0</th>\n",
              "      <td>5830804</td>\n",
              "    </tr>\n",
              "    <tr>\n",
              "      <th>0.5</th>\n",
              "      <td>1370</td>\n",
              "    </tr>\n",
              "    <tr>\n",
              "      <th>1.0</th>\n",
              "      <td>2811</td>\n",
              "    </tr>\n",
              "    <tr>\n",
              "      <th>1.5</th>\n",
              "      <td>1791</td>\n",
              "    </tr>\n",
              "    <tr>\n",
              "      <th>2.0</th>\n",
              "      <td>7551</td>\n",
              "    </tr>\n",
              "    <tr>\n",
              "      <th>2.5</th>\n",
              "      <td>5550</td>\n",
              "    </tr>\n",
              "    <tr>\n",
              "      <th>3.0</th>\n",
              "      <td>20047</td>\n",
              "    </tr>\n",
              "    <tr>\n",
              "      <th>3.5</th>\n",
              "      <td>13136</td>\n",
              "    </tr>\n",
              "    <tr>\n",
              "      <th>4.0</th>\n",
              "      <td>26818</td>\n",
              "    </tr>\n",
              "    <tr>\n",
              "      <th>4.5</th>\n",
              "      <td>8551</td>\n",
              "    </tr>\n",
              "    <tr>\n",
              "      <th>5.0</th>\n",
              "      <td>13211</td>\n",
              "    </tr>\n",
              "  </tbody>\n",
              "</table>\n",
              "</div>\n",
              "      <button class=\"colab-df-convert\" onclick=\"convertToInteractive('df-758384cc-6c40-4ba2-ae94-888d4b12ec9a')\"\n",
              "              title=\"Convert this dataframe to an interactive table.\"\n",
              "              style=\"display:none;\">\n",
              "        \n",
              "  <svg xmlns=\"http://www.w3.org/2000/svg\" height=\"24px\"viewBox=\"0 0 24 24\"\n",
              "       width=\"24px\">\n",
              "    <path d=\"M0 0h24v24H0V0z\" fill=\"none\"/>\n",
              "    <path d=\"M18.56 5.44l.94 2.06.94-2.06 2.06-.94-2.06-.94-.94-2.06-.94 2.06-2.06.94zm-11 1L8.5 8.5l.94-2.06 2.06-.94-2.06-.94L8.5 2.5l-.94 2.06-2.06.94zm10 10l.94 2.06.94-2.06 2.06-.94-2.06-.94-.94-2.06-.94 2.06-2.06.94z\"/><path d=\"M17.41 7.96l-1.37-1.37c-.4-.4-.92-.59-1.43-.59-.52 0-1.04.2-1.43.59L10.3 9.45l-7.72 7.72c-.78.78-.78 2.05 0 2.83L4 21.41c.39.39.9.59 1.41.59.51 0 1.02-.2 1.41-.59l7.78-7.78 2.81-2.81c.8-.78.8-2.07 0-2.86zM5.41 20L4 18.59l7.72-7.72 1.47 1.35L5.41 20z\"/>\n",
              "  </svg>\n",
              "      </button>\n",
              "      \n",
              "  <style>\n",
              "    .colab-df-container {\n",
              "      display:flex;\n",
              "      flex-wrap:wrap;\n",
              "      gap: 12px;\n",
              "    }\n",
              "\n",
              "    .colab-df-convert {\n",
              "      background-color: #E8F0FE;\n",
              "      border: none;\n",
              "      border-radius: 50%;\n",
              "      cursor: pointer;\n",
              "      display: none;\n",
              "      fill: #1967D2;\n",
              "      height: 32px;\n",
              "      padding: 0 0 0 0;\n",
              "      width: 32px;\n",
              "    }\n",
              "\n",
              "    .colab-df-convert:hover {\n",
              "      background-color: #E2EBFA;\n",
              "      box-shadow: 0px 1px 2px rgba(60, 64, 67, 0.3), 0px 1px 3px 1px rgba(60, 64, 67, 0.15);\n",
              "      fill: #174EA6;\n",
              "    }\n",
              "\n",
              "    [theme=dark] .colab-df-convert {\n",
              "      background-color: #3B4455;\n",
              "      fill: #D2E3FC;\n",
              "    }\n",
              "\n",
              "    [theme=dark] .colab-df-convert:hover {\n",
              "      background-color: #434B5C;\n",
              "      box-shadow: 0px 1px 3px 1px rgba(0, 0, 0, 0.15);\n",
              "      filter: drop-shadow(0px 1px 2px rgba(0, 0, 0, 0.3));\n",
              "      fill: #FFFFFF;\n",
              "    }\n",
              "  </style>\n",
              "\n",
              "      <script>\n",
              "        const buttonEl =\n",
              "          document.querySelector('#df-758384cc-6c40-4ba2-ae94-888d4b12ec9a button.colab-df-convert');\n",
              "        buttonEl.style.display =\n",
              "          google.colab.kernel.accessAllowed ? 'block' : 'none';\n",
              "\n",
              "        async function convertToInteractive(key) {\n",
              "          const element = document.querySelector('#df-758384cc-6c40-4ba2-ae94-888d4b12ec9a');\n",
              "          const dataTable =\n",
              "            await google.colab.kernel.invokeFunction('convertToInteractive',\n",
              "                                                     [key], {});\n",
              "          if (!dataTable) return;\n",
              "\n",
              "          const docLinkHtml = 'Like what you see? Visit the ' +\n",
              "            '<a target=\"_blank\" href=https://colab.research.google.com/notebooks/data_table.ipynb>data table notebook</a>'\n",
              "            + ' to learn more about interactive tables.';\n",
              "          element.innerHTML = '';\n",
              "          dataTable['output_type'] = 'display_data';\n",
              "          await google.colab.output.renderOutput(dataTable, element);\n",
              "          const docLink = document.createElement('div');\n",
              "          docLink.innerHTML = docLinkHtml;\n",
              "          element.appendChild(docLink);\n",
              "        }\n",
              "      </script>\n",
              "    </div>\n",
              "  </div>\n",
              "  "
            ]
          },
          "metadata": {},
          "execution_count": 62
        }
      ]
    },
    {
      "cell_type": "markdown",
      "source": [
        "The count for zero rating scores is too big to compare with others. So let's take log transform for count values, and then we can plot them to compare."
      ],
      "metadata": {
        "id": "pUyOmGTptuR1"
      }
    },
    {
      "cell_type": "code",
      "source": [
        "# add log count\n",
        "df_iu_cnt['log_count'] = np.log(df_iu_cnt['count'])\n",
        "df_iu_cnt"
      ],
      "metadata": {
        "colab": {
          "base_uri": "https://localhost:8080/",
          "height": 394
        },
        "id": "7JpU7CqutysF",
        "outputId": "8e306962-665d-4e4c-8b60-7f3bcc0e4ce6"
      },
      "execution_count": null,
      "outputs": [
        {
          "output_type": "execute_result",
          "data": {
            "text/plain": [
              "       count  log_count\n",
              "0.0  5830804  15.578665\n",
              "0.5     1370   7.222566\n",
              "1.0     2811   7.941296\n",
              "1.5     1791   7.490529\n",
              "2.0     7551   8.929435\n",
              "2.5     5550   8.621553\n",
              "3.0    20047   9.905835\n",
              "3.5    13136   9.483112\n",
              "4.0    26818  10.196829\n",
              "4.5     8551   9.053804\n",
              "5.0    13211   9.488805"
            ],
            "text/html": [
              "\n",
              "  <div id=\"df-e3c2abbf-72ad-4ac8-8242-a539d05a619b\">\n",
              "    <div class=\"colab-df-container\">\n",
              "      <div>\n",
              "<style scoped>\n",
              "    .dataframe tbody tr th:only-of-type {\n",
              "        vertical-align: middle;\n",
              "    }\n",
              "\n",
              "    .dataframe tbody tr th {\n",
              "        vertical-align: top;\n",
              "    }\n",
              "\n",
              "    .dataframe thead th {\n",
              "        text-align: right;\n",
              "    }\n",
              "</style>\n",
              "<table border=\"1\" class=\"dataframe\">\n",
              "  <thead>\n",
              "    <tr style=\"text-align: right;\">\n",
              "      <th></th>\n",
              "      <th>count</th>\n",
              "      <th>log_count</th>\n",
              "    </tr>\n",
              "  </thead>\n",
              "  <tbody>\n",
              "    <tr>\n",
              "      <th>0.0</th>\n",
              "      <td>5830804</td>\n",
              "      <td>15.578665</td>\n",
              "    </tr>\n",
              "    <tr>\n",
              "      <th>0.5</th>\n",
              "      <td>1370</td>\n",
              "      <td>7.222566</td>\n",
              "    </tr>\n",
              "    <tr>\n",
              "      <th>1.0</th>\n",
              "      <td>2811</td>\n",
              "      <td>7.941296</td>\n",
              "    </tr>\n",
              "    <tr>\n",
              "      <th>1.5</th>\n",
              "      <td>1791</td>\n",
              "      <td>7.490529</td>\n",
              "    </tr>\n",
              "    <tr>\n",
              "      <th>2.0</th>\n",
              "      <td>7551</td>\n",
              "      <td>8.929435</td>\n",
              "    </tr>\n",
              "    <tr>\n",
              "      <th>2.5</th>\n",
              "      <td>5550</td>\n",
              "      <td>8.621553</td>\n",
              "    </tr>\n",
              "    <tr>\n",
              "      <th>3.0</th>\n",
              "      <td>20047</td>\n",
              "      <td>9.905835</td>\n",
              "    </tr>\n",
              "    <tr>\n",
              "      <th>3.5</th>\n",
              "      <td>13136</td>\n",
              "      <td>9.483112</td>\n",
              "    </tr>\n",
              "    <tr>\n",
              "      <th>4.0</th>\n",
              "      <td>26818</td>\n",
              "      <td>10.196829</td>\n",
              "    </tr>\n",
              "    <tr>\n",
              "      <th>4.5</th>\n",
              "      <td>8551</td>\n",
              "      <td>9.053804</td>\n",
              "    </tr>\n",
              "    <tr>\n",
              "      <th>5.0</th>\n",
              "      <td>13211</td>\n",
              "      <td>9.488805</td>\n",
              "    </tr>\n",
              "  </tbody>\n",
              "</table>\n",
              "</div>\n",
              "      <button class=\"colab-df-convert\" onclick=\"convertToInteractive('df-e3c2abbf-72ad-4ac8-8242-a539d05a619b')\"\n",
              "              title=\"Convert this dataframe to an interactive table.\"\n",
              "              style=\"display:none;\">\n",
              "        \n",
              "  <svg xmlns=\"http://www.w3.org/2000/svg\" height=\"24px\"viewBox=\"0 0 24 24\"\n",
              "       width=\"24px\">\n",
              "    <path d=\"M0 0h24v24H0V0z\" fill=\"none\"/>\n",
              "    <path d=\"M18.56 5.44l.94 2.06.94-2.06 2.06-.94-2.06-.94-.94-2.06-.94 2.06-2.06.94zm-11 1L8.5 8.5l.94-2.06 2.06-.94-2.06-.94L8.5 2.5l-.94 2.06-2.06.94zm10 10l.94 2.06.94-2.06 2.06-.94-2.06-.94-.94-2.06-.94 2.06-2.06.94z\"/><path d=\"M17.41 7.96l-1.37-1.37c-.4-.4-.92-.59-1.43-.59-.52 0-1.04.2-1.43.59L10.3 9.45l-7.72 7.72c-.78.78-.78 2.05 0 2.83L4 21.41c.39.39.9.59 1.41.59.51 0 1.02-.2 1.41-.59l7.78-7.78 2.81-2.81c.8-.78.8-2.07 0-2.86zM5.41 20L4 18.59l7.72-7.72 1.47 1.35L5.41 20z\"/>\n",
              "  </svg>\n",
              "      </button>\n",
              "      \n",
              "  <style>\n",
              "    .colab-df-container {\n",
              "      display:flex;\n",
              "      flex-wrap:wrap;\n",
              "      gap: 12px;\n",
              "    }\n",
              "\n",
              "    .colab-df-convert {\n",
              "      background-color: #E8F0FE;\n",
              "      border: none;\n",
              "      border-radius: 50%;\n",
              "      cursor: pointer;\n",
              "      display: none;\n",
              "      fill: #1967D2;\n",
              "      height: 32px;\n",
              "      padding: 0 0 0 0;\n",
              "      width: 32px;\n",
              "    }\n",
              "\n",
              "    .colab-df-convert:hover {\n",
              "      background-color: #E2EBFA;\n",
              "      box-shadow: 0px 1px 2px rgba(60, 64, 67, 0.3), 0px 1px 3px 1px rgba(60, 64, 67, 0.15);\n",
              "      fill: #174EA6;\n",
              "    }\n",
              "\n",
              "    [theme=dark] .colab-df-convert {\n",
              "      background-color: #3B4455;\n",
              "      fill: #D2E3FC;\n",
              "    }\n",
              "\n",
              "    [theme=dark] .colab-df-convert:hover {\n",
              "      background-color: #434B5C;\n",
              "      box-shadow: 0px 1px 3px 1px rgba(0, 0, 0, 0.15);\n",
              "      filter: drop-shadow(0px 1px 2px rgba(0, 0, 0, 0.3));\n",
              "      fill: #FFFFFF;\n",
              "    }\n",
              "  </style>\n",
              "\n",
              "      <script>\n",
              "        const buttonEl =\n",
              "          document.querySelector('#df-e3c2abbf-72ad-4ac8-8242-a539d05a619b button.colab-df-convert');\n",
              "        buttonEl.style.display =\n",
              "          google.colab.kernel.accessAllowed ? 'block' : 'none';\n",
              "\n",
              "        async function convertToInteractive(key) {\n",
              "          const element = document.querySelector('#df-e3c2abbf-72ad-4ac8-8242-a539d05a619b');\n",
              "          const dataTable =\n",
              "            await google.colab.kernel.invokeFunction('convertToInteractive',\n",
              "                                                     [key], {});\n",
              "          if (!dataTable) return;\n",
              "\n",
              "          const docLinkHtml = 'Like what you see? Visit the ' +\n",
              "            '<a target=\"_blank\" href=https://colab.research.google.com/notebooks/data_table.ipynb>data table notebook</a>'\n",
              "            + ' to learn more about interactive tables.';\n",
              "          element.innerHTML = '';\n",
              "          dataTable['output_type'] = 'display_data';\n",
              "          await google.colab.output.renderOutput(dataTable, element);\n",
              "          const docLink = document.createElement('div');\n",
              "          docLink.innerHTML = docLinkHtml;\n",
              "          element.appendChild(docLink);\n",
              "        }\n",
              "      </script>\n",
              "    </div>\n",
              "  </div>\n",
              "  "
            ]
          },
          "metadata": {},
          "execution_count": 63
        }
      ]
    },
    {
      "cell_type": "code",
      "source": [
        "ax = df_iu_cnt[['count']].reset_index().rename(columns={'index': 'rating score'}).plot(\n",
        "    x=rating+' score',\n",
        "    y='count',\n",
        "    kind='bar',\n",
        "    figsize=(12, 8),\n",
        "    title='Count for Each Rating Score (in Log Scale)',\n",
        "    logy=True,\n",
        "    fontsize=12,\n",
        ")\n",
        "ax.set_xlabel(\"rating score\")\n",
        "ax.set_ylabel(\"number of ratings\")"
      ],
      "metadata": {
        "colab": {
          "base_uri": "https://localhost:8080/",
          "height": 544
        },
        "id": "jWQI3BNkt0a7",
        "outputId": "418c4620-bfa0-443d-b8ff-f89717ba3ebf"
      },
      "execution_count": null,
      "outputs": [
        {
          "output_type": "execute_result",
          "data": {
            "text/plain": [
              "Text(0, 0.5, 'number of ratings')"
            ]
          },
          "metadata": {},
          "execution_count": 64
        },
        {
          "output_type": "display_data",
          "data": {
            "text/plain": [
              "<Figure size 864x576 with 1 Axes>"
            ],
            "image/png": "[encoded data removed]"
          },
          "metadata": {
            "needs_background": "light"
          }
        }
      ]
    },
    {
      "cell_type": "markdown",
      "source": [
        "Interestingly, more people give rating scores of 3 and 4 than others. "
      ],
      "metadata": {
        "id": "BgNiaVP5t2Z2"
      }
    },
    {
      "cell_type": "markdown",
      "source": [
        "#### 2. Plot rating frequency of all movies"
      ],
      "metadata": {
        "id": "KzJarMD8t5uW"
      }
    },
    {
      "cell_type": "code",
      "source": [
        "df_iu.sample(10)"
      ],
      "metadata": {
        "colab": {
          "base_uri": "https://localhost:8080/",
          "height": 363
        },
        "id": "odI7CmaCuAv_",
        "outputId": "befa0604-07e8-49f0-b215-b54805391b7e"
      },
      "execution_count": null,
      "outputs": [
        {
          "output_type": "execute_result",
          "data": {
            "text/plain": [
              "       userId  movieId  rating\n",
              "37586     254     1200     4.0\n",
              "91247     591      260     5.0\n",
              "42911     288     4587     2.0\n",
              "1588       16      904     3.5\n",
              "23532     160     2701     1.0\n",
              "47957     310     2372     2.0\n",
              "73500     474     1357     3.5\n",
              "84801     550   116797     4.5\n",
              "20405     135     1198     4.0\n",
              "84598     543    89904     0.5"
            ],
            "text/html": [
              "\n",
              "  <div id=\"df-e9d68244-b147-4266-9387-3672a614af71\">\n",
              "    <div class=\"colab-df-container\">\n",
              "      <div>\n",
              "<style scoped>\n",
              "    .dataframe tbody tr th:only-of-type {\n",
              "        vertical-align: middle;\n",
              "    }\n",
              "\n",
              "    .dataframe tbody tr th {\n",
              "        vertical-align: top;\n",
              "    }\n",
              "\n",
              "    .dataframe thead th {\n",
              "        text-align: right;\n",
              "    }\n",
              "</style>\n",
              "<table border=\"1\" class=\"dataframe\">\n",
              "  <thead>\n",
              "    <tr style=\"text-align: right;\">\n",
              "      <th></th>\n",
              "      <th>userId</th>\n",
              "      <th>movieId</th>\n",
              "      <th>rating</th>\n",
              "    </tr>\n",
              "  </thead>\n",
              "  <tbody>\n",
              "    <tr>\n",
              "      <th>37586</th>\n",
              "      <td>254</td>\n",
              "      <td>1200</td>\n",
              "      <td>4.0</td>\n",
              "    </tr>\n",
              "    <tr>\n",
              "      <th>91247</th>\n",
              "      <td>591</td>\n",
              "      <td>260</td>\n",
              "      <td>5.0</td>\n",
              "    </tr>\n",
              "    <tr>\n",
              "      <th>42911</th>\n",
              "      <td>288</td>\n",
              "      <td>4587</td>\n",
              "      <td>2.0</td>\n",
              "    </tr>\n",
              "    <tr>\n",
              "      <th>1588</th>\n",
              "      <td>16</td>\n",
              "      <td>904</td>\n",
              "      <td>3.5</td>\n",
              "    </tr>\n",
              "    <tr>\n",
              "      <th>23532</th>\n",
              "      <td>160</td>\n",
              "      <td>2701</td>\n",
              "      <td>1.0</td>\n",
              "    </tr>\n",
              "    <tr>\n",
              "      <th>47957</th>\n",
              "      <td>310</td>\n",
              "      <td>2372</td>\n",
              "      <td>2.0</td>\n",
              "    </tr>\n",
              "    <tr>\n",
              "      <th>73500</th>\n",
              "      <td>474</td>\n",
              "      <td>1357</td>\n",
              "      <td>3.5</td>\n",
              "    </tr>\n",
              "    <tr>\n",
              "      <th>84801</th>\n",
              "      <td>550</td>\n",
              "      <td>116797</td>\n",
              "      <td>4.5</td>\n",
              "    </tr>\n",
              "    <tr>\n",
              "      <th>20405</th>\n",
              "      <td>135</td>\n",
              "      <td>1198</td>\n",
              "      <td>4.0</td>\n",
              "    </tr>\n",
              "    <tr>\n",
              "      <th>84598</th>\n",
              "      <td>543</td>\n",
              "      <td>89904</td>\n",
              "      <td>0.5</td>\n",
              "    </tr>\n",
              "  </tbody>\n",
              "</table>\n",
              "</div>\n",
              "      <button class=\"colab-df-convert\" onclick=\"convertToInteractive('df-e9d68244-b147-4266-9387-3672a614af71')\"\n",
              "              title=\"Convert this dataframe to an interactive table.\"\n",
              "              style=\"display:none;\">\n",
              "        \n",
              "  <svg xmlns=\"http://www.w3.org/2000/svg\" height=\"24px\"viewBox=\"0 0 24 24\"\n",
              "       width=\"24px\">\n",
              "    <path d=\"M0 0h24v24H0V0z\" fill=\"none\"/>\n",
              "    <path d=\"M18.56 5.44l.94 2.06.94-2.06 2.06-.94-2.06-.94-.94-2.06-.94 2.06-2.06.94zm-11 1L8.5 8.5l.94-2.06 2.06-.94-2.06-.94L8.5 2.5l-.94 2.06-2.06.94zm10 10l.94 2.06.94-2.06 2.06-.94-2.06-.94-.94-2.06-.94 2.06-2.06.94z\"/><path d=\"M17.41 7.96l-1.37-1.37c-.4-.4-.92-.59-1.43-.59-.52 0-1.04.2-1.43.59L10.3 9.45l-7.72 7.72c-.78.78-.78 2.05 0 2.83L4 21.41c.39.39.9.59 1.41.59.51 0 1.02-.2 1.41-.59l7.78-7.78 2.81-2.81c.8-.78.8-2.07 0-2.86zM5.41 20L4 18.59l7.72-7.72 1.47 1.35L5.41 20z\"/>\n",
              "  </svg>\n",
              "      </button>\n",
              "      \n",
              "  <style>\n",
              "    .colab-df-container {\n",
              "      display:flex;\n",
              "      flex-wrap:wrap;\n",
              "      gap: 12px;\n",
              "    }\n",
              "\n",
              "    .colab-df-convert {\n",
              "      background-color: #E8F0FE;\n",
              "      border: none;\n",
              "      border-radius: 50%;\n",
              "      cursor: pointer;\n",
              "      display: none;\n",
              "      fill: #1967D2;\n",
              "      height: 32px;\n",
              "      padding: 0 0 0 0;\n",
              "      width: 32px;\n",
              "    }\n",
              "\n",
              "    .colab-df-convert:hover {\n",
              "      background-color: #E2EBFA;\n",
              "      box-shadow: 0px 1px 2px rgba(60, 64, 67, 0.3), 0px 1px 3px 1px rgba(60, 64, 67, 0.15);\n",
              "      fill: #174EA6;\n",
              "    }\n",
              "\n",
              "    [theme=dark] .colab-df-convert {\n",
              "      background-color: #3B4455;\n",
              "      fill: #D2E3FC;\n",
              "    }\n",
              "\n",
              "    [theme=dark] .colab-df-convert:hover {\n",
              "      background-color: #434B5C;\n",
              "      box-shadow: 0px 1px 3px 1px rgba(0, 0, 0, 0.15);\n",
              "      filter: drop-shadow(0px 1px 2px rgba(0, 0, 0, 0.3));\n",
              "      fill: #FFFFFF;\n",
              "    }\n",
              "  </style>\n",
              "\n",
              "      <script>\n",
              "        const buttonEl =\n",
              "          document.querySelector('#df-e9d68244-b147-4266-9387-3672a614af71 button.colab-df-convert');\n",
              "        buttonEl.style.display =\n",
              "          google.colab.kernel.accessAllowed ? 'block' : 'none';\n",
              "\n",
              "        async function convertToInteractive(key) {\n",
              "          const element = document.querySelector('#df-e9d68244-b147-4266-9387-3672a614af71');\n",
              "          const dataTable =\n",
              "            await google.colab.kernel.invokeFunction('convertToInteractive',\n",
              "                                                     [key], {});\n",
              "          if (!dataTable) return;\n",
              "\n",
              "          const docLinkHtml = 'Like what you see? Visit the ' +\n",
              "            '<a target=\"_blank\" href=https://colab.research.google.com/notebooks/data_table.ipynb>data table notebook</a>'\n",
              "            + ' to learn more about interactive tables.';\n",
              "          element.innerHTML = '';\n",
              "          dataTable['output_type'] = 'display_data';\n",
              "          await google.colab.output.renderOutput(dataTable, element);\n",
              "          const docLink = document.createElement('div');\n",
              "          docLink.innerHTML = docLinkHtml;\n",
              "          element.appendChild(docLink);\n",
              "        }\n",
              "      </script>\n",
              "    </div>\n",
              "  </div>\n",
              "  "
            ]
          },
          "metadata": {},
          "execution_count": 65
        }
      ]
    },
    {
      "cell_type": "code",
      "source": [
        "# get rating frequency\n",
        "df_i_cnt = pd.DataFrame(df_iu.groupby(i_id).size(), columns=['count'])\n",
        "df_i_cnt.sample(20)"
      ],
      "metadata": {
        "colab": {
          "base_uri": "https://localhost:8080/",
          "height": 708
        },
        "id": "iU4P1SwouC0P",
        "outputId": "eb3b50f2-7da8-41e0-b062-4f864378fd4b"
      },
      "execution_count": null,
      "outputs": [
        {
          "output_type": "execute_result",
          "data": {
            "text/plain": [
              "         count\n",
              "movieId       \n",
              "50802        3\n",
              "170827       1\n",
              "321          2\n",
              "53450        1\n",
              "2706       103\n",
              "1201        72\n",
              "51088        2\n",
              "167370       2\n",
              "5304         2\n",
              "7104         3\n",
              "140627       1\n",
              "95939        1\n",
              "6030         1\n",
              "96563        1\n",
              "135518       2\n",
              "2784         2\n",
              "113374       1\n",
              "1587        31\n",
              "979          1\n",
              "47566        1"
            ],
            "text/html": [
              "\n",
              "  <div id=\"df-7d48874d-a461-40bf-ac3f-7ebfbcb3488f\">\n",
              "    <div class=\"colab-df-container\">\n",
              "      <div>\n",
              "<style scoped>\n",
              "    .dataframe tbody tr th:only-of-type {\n",
              "        vertical-align: middle;\n",
              "    }\n",
              "\n",
              "    .dataframe tbody tr th {\n",
              "        vertical-align: top;\n",
              "    }\n",
              "\n",
              "    .dataframe thead th {\n",
              "        text-align: right;\n",
              "    }\n",
              "</style>\n",
              "<table border=\"1\" class=\"dataframe\">\n",
              "  <thead>\n",
              "    <tr style=\"text-align: right;\">\n",
              "      <th></th>\n",
              "      <th>count</th>\n",
              "    </tr>\n",
              "    <tr>\n",
              "      <th>movieId</th>\n",
              "      <th></th>\n",
              "    </tr>\n",
              "  </thead>\n",
              "  <tbody>\n",
              "    <tr>\n",
              "      <th>50802</th>\n",
              "      <td>3</td>\n",
              "    </tr>\n",
              "    <tr>\n",
              "      <th>170827</th>\n",
              "      <td>1</td>\n",
              "    </tr>\n",
              "    <tr>\n",
              "      <th>321</th>\n",
              "      <td>2</td>\n",
              "    </tr>\n",
              "    <tr>\n",
              "      <th>53450</th>\n",
              "      <td>1</td>\n",
              "    </tr>\n",
              "    <tr>\n",
              "      <th>2706</th>\n",
              "      <td>103</td>\n",
              "    </tr>\n",
              "    <tr>\n",
              "      <th>1201</th>\n",
              "      <td>72</td>\n",
              "    </tr>\n",
              "    <tr>\n",
              "      <th>51088</th>\n",
              "      <td>2</td>\n",
              "    </tr>\n",
              "    <tr>\n",
              "      <th>167370</th>\n",
              "      <td>2</td>\n",
              "    </tr>\n",
              "    <tr>\n",
              "      <th>5304</th>\n",
              "      <td>2</td>\n",
              "    </tr>\n",
              "    <tr>\n",
              "      <th>7104</th>\n",
              "      <td>3</td>\n",
              "    </tr>\n",
              "    <tr>\n",
              "      <th>140627</th>\n",
              "      <td>1</td>\n",
              "    </tr>\n",
              "    <tr>\n",
              "      <th>95939</th>\n",
              "      <td>1</td>\n",
              "    </tr>\n",
              "    <tr>\n",
              "      <th>6030</th>\n",
              "      <td>1</td>\n",
              "    </tr>\n",
              "    <tr>\n",
              "      <th>96563</th>\n",
              "      <td>1</td>\n",
              "    </tr>\n",
              "    <tr>\n",
              "      <th>135518</th>\n",
              "      <td>2</td>\n",
              "    </tr>\n",
              "    <tr>\n",
              "      <th>2784</th>\n",
              "      <td>2</td>\n",
              "    </tr>\n",
              "    <tr>\n",
              "      <th>113374</th>\n",
              "      <td>1</td>\n",
              "    </tr>\n",
              "    <tr>\n",
              "      <th>1587</th>\n",
              "      <td>31</td>\n",
              "    </tr>\n",
              "    <tr>\n",
              "      <th>979</th>\n",
              "      <td>1</td>\n",
              "    </tr>\n",
              "    <tr>\n",
              "      <th>47566</th>\n",
              "      <td>1</td>\n",
              "    </tr>\n",
              "  </tbody>\n",
              "</table>\n",
              "</div>\n",
              "      <button class=\"colab-df-convert\" onclick=\"convertToInteractive('df-7d48874d-a461-40bf-ac3f-7ebfbcb3488f')\"\n",
              "              title=\"Convert this dataframe to an interactive table.\"\n",
              "              style=\"display:none;\">\n",
              "        \n",
              "  <svg xmlns=\"http://www.w3.org/2000/svg\" height=\"24px\"viewBox=\"0 0 24 24\"\n",
              "       width=\"24px\">\n",
              "    <path d=\"M0 0h24v24H0V0z\" fill=\"none\"/>\n",
              "    <path d=\"M18.56 5.44l.94 2.06.94-2.06 2.06-.94-2.06-.94-.94-2.06-.94 2.06-2.06.94zm-11 1L8.5 8.5l.94-2.06 2.06-.94-2.06-.94L8.5 2.5l-.94 2.06-2.06.94zm10 10l.94 2.06.94-2.06 2.06-.94-2.06-.94-.94-2.06-.94 2.06-2.06.94z\"/><path d=\"M17.41 7.96l-1.37-1.37c-.4-.4-.92-.59-1.43-.59-.52 0-1.04.2-1.43.59L10.3 9.45l-7.72 7.72c-.78.78-.78 2.05 0 2.83L4 21.41c.39.39.9.59 1.41.59.51 0 1.02-.2 1.41-.59l7.78-7.78 2.81-2.81c.8-.78.8-2.07 0-2.86zM5.41 20L4 18.59l7.72-7.72 1.47 1.35L5.41 20z\"/>\n",
              "  </svg>\n",
              "      </button>\n",
              "      \n",
              "  <style>\n",
              "    .colab-df-container {\n",
              "      display:flex;\n",
              "      flex-wrap:wrap;\n",
              "      gap: 12px;\n",
              "    }\n",
              "\n",
              "    .colab-df-convert {\n",
              "      background-color: #E8F0FE;\n",
              "      border: none;\n",
              "      border-radius: 50%;\n",
              "      cursor: pointer;\n",
              "      display: none;\n",
              "      fill: #1967D2;\n",
              "      height: 32px;\n",
              "      padding: 0 0 0 0;\n",
              "      width: 32px;\n",
              "    }\n",
              "\n",
              "    .colab-df-convert:hover {\n",
              "      background-color: #E2EBFA;\n",
              "      box-shadow: 0px 1px 2px rgba(60, 64, 67, 0.3), 0px 1px 3px 1px rgba(60, 64, 67, 0.15);\n",
              "      fill: #174EA6;\n",
              "    }\n",
              "\n",
              "    [theme=dark] .colab-df-convert {\n",
              "      background-color: #3B4455;\n",
              "      fill: #D2E3FC;\n",
              "    }\n",
              "\n",
              "    [theme=dark] .colab-df-convert:hover {\n",
              "      background-color: #434B5C;\n",
              "      box-shadow: 0px 1px 3px 1px rgba(0, 0, 0, 0.15);\n",
              "      filter: drop-shadow(0px 1px 2px rgba(0, 0, 0, 0.3));\n",
              "      fill: #FFFFFF;\n",
              "    }\n",
              "  </style>\n",
              "\n",
              "      <script>\n",
              "        const buttonEl =\n",
              "          document.querySelector('#df-7d48874d-a461-40bf-ac3f-7ebfbcb3488f button.colab-df-convert');\n",
              "        buttonEl.style.display =\n",
              "          google.colab.kernel.accessAllowed ? 'block' : 'none';\n",
              "\n",
              "        async function convertToInteractive(key) {\n",
              "          const element = document.querySelector('#df-7d48874d-a461-40bf-ac3f-7ebfbcb3488f');\n",
              "          const dataTable =\n",
              "            await google.colab.kernel.invokeFunction('convertToInteractive',\n",
              "                                                     [key], {});\n",
              "          if (!dataTable) return;\n",
              "\n",
              "          const docLinkHtml = 'Like what you see? Visit the ' +\n",
              "            '<a target=\"_blank\" href=https://colab.research.google.com/notebooks/data_table.ipynb>data table notebook</a>'\n",
              "            + ' to learn more about interactive tables.';\n",
              "          element.innerHTML = '';\n",
              "          dataTable['output_type'] = 'display_data';\n",
              "          await google.colab.output.renderOutput(dataTable, element);\n",
              "          const docLink = document.createElement('div');\n",
              "          docLink.innerHTML = docLinkHtml;\n",
              "          element.appendChild(docLink);\n",
              "        }\n",
              "      </script>\n",
              "    </div>\n",
              "  </div>\n",
              "  "
            ]
          },
          "metadata": {},
          "execution_count": 66
        }
      ]
    },
    {
      "cell_type": "code",
      "source": [
        "# plot rating frequency of all movies\n",
        "ax = df_i_cnt \\\n",
        "    .sort_values('count', ascending=False) \\\n",
        "    .reset_index(drop=True) \\\n",
        "    .plot(\n",
        "        figsize=(12, 8),\n",
        "        title='Rating Frequency of All Items',\n",
        "        fontsize=12\n",
        "    )\n",
        "ax.set_xlabel(\"Movie\")\n",
        "ax.set_ylabel(\"number of ratings\")"
      ],
      "metadata": {
        "colab": {
          "base_uri": "https://localhost:8080/",
          "height": 538
        },
        "id": "W3bBh9keuEtq",
        "outputId": "3a0e2ddf-7572-43ec-818b-ed7de2434513"
      },
      "execution_count": null,
      "outputs": [
        {
          "output_type": "execute_result",
          "data": {
            "text/plain": [
              "Text(0, 0.5, 'number of ratings')"
            ]
          },
          "metadata": {},
          "execution_count": 67
        },
        {
          "output_type": "display_data",
          "data": {
            "text/plain": [
              "<Figure size 864x576 with 1 Axes>"
            ],
            "image/png": "[encoded data removed]"
          },
          "metadata": {
            "needs_background": "light"
          }
        }
      ]
    },
    {
      "cell_type": "markdown",
      "source": [
        "The rating distribution among movies often satisfies a `long-tail` property, which is very common in real-world datasets. \n",
        "\n",
        "According to this property, only a tiny\n",
        "fraction of the items are rated frequently. Such items are referred to as popular items. The\n",
        "vast majority of items are rated rarely. This results in a highly skewed distribution of the\n",
        "underlying ratings."
      ],
      "metadata": {
        "id": "zInNhVnMuGvL"
      }
    },
    {
      "cell_type": "markdown",
      "source": [
        "Let's plot the same distribution but with a log scale"
      ],
      "metadata": {
        "id": "XfcgHhg2uKXa"
      }
    },
    {
      "cell_type": "code",
      "source": [
        "# plot rating frequency of all movies in log scale\n",
        "ax = df_i_cnt \\\n",
        "    .sort_values('count', ascending=False) \\\n",
        "    .reset_index(drop=True) \\\n",
        "    .plot(\n",
        "        figsize=(12, 8),\n",
        "        title='Rating Frequency of All Items (in Log Scale)',\n",
        "        fontsize=12,\n",
        "        logy=True\n",
        "    )\n",
        "ax.set_xlabel('Movie')\n",
        "ax.set_ylabel(\"number of ratings (log scale)\")"
      ],
      "metadata": {
        "colab": {
          "base_uri": "https://localhost:8080/",
          "height": 538
        },
        "id": "lhCNLDhTuNff",
        "outputId": "79fc4386-9de3-4218-db91-329721f24fd2"
      },
      "execution_count": null,
      "outputs": [
        {
          "output_type": "execute_result",
          "data": {
            "text/plain": [
              "Text(0, 0.5, 'number of ratings (log scale)')"
            ]
          },
          "metadata": {},
          "execution_count": 68
        },
        {
          "output_type": "display_data",
          "data": {
            "text/plain": [
              "<Figure size 864x576 with 1 Axes>"
            ],
            "image/png": "[encoded data removed]"
          },
          "metadata": {
            "needs_background": "light"
          }
        }
      ]
    },
    {
      "cell_type": "markdown",
      "source": [
        "We can see that roughly 10,000 out of 53,889 movies are rated more than 100 times. More interestingly, roughly 20,000 out of 53,889 movies are rated less than only ten times. Let's look closer by displaying the top quantiles of rating counts."
      ],
      "metadata": {
        "id": "oICM2kb8uPTH"
      }
    },
    {
      "cell_type": "code",
      "source": [
        "df_i_cnt['count'].quantile(np.arange(1, 0.6, -0.05))"
      ],
      "metadata": {
        "colab": {
          "base_uri": "https://localhost:8080/"
        },
        "id": "jJvROzMWuRtx",
        "outputId": "1357af26-d93a-4b4f-e40b-eaee3b9d5fad"
      },
      "execution_count": null,
      "outputs": [
        {
          "output_type": "execute_result",
          "data": {
            "text/plain": [
              "1.00    329.0\n",
              "0.95     47.0\n",
              "0.90     27.0\n",
              "0.85     17.0\n",
              "0.80     12.0\n",
              "0.75      9.0\n",
              "0.70      7.0\n",
              "0.65      5.0\n",
              "Name: count, dtype: float64"
            ]
          },
          "metadata": {},
          "execution_count": 69
        }
      ]
    },
    {
      "cell_type": "markdown",
      "source": [
        "So about 1% of movies have roughly 97,999 ratings, 5% have 1,855 or more, and 20% have 100 or more. Since we have so many movies, we'll limit it to the top 25%. This is an arbitrary threshold for popularity, but it gives us about 13,500 different movies. We still have a pretty good amount of movies for modeling.\n",
        "\n",
        "There are two reasons why we want to **filter to roughly 13,500 movies** in our dataset.\n",
        " - **Memory issue:** we don't want to run into the \"MemoryError\" during model training\n",
        " - **Improve KNN performance:** lesser known movies have ratings from fewer viewers, making the pattern noisier. Dropping out less known movies can improve recommendation quality"
      ],
      "metadata": {
        "id": "hd4DkfNguUsz"
      }
    },
    {
      "cell_type": "code",
      "source": [
        "# filter data\n",
        "popularity_thres = 50\n",
        "popular_i = list(set(df_i_cnt.query('count >= @popularity_thres').index))\n",
        "df_iu_drop_i = df_iu[df_iu[i_id].isin(popular_i)]\n",
        "print('shape of original ratings data: ', df_iu.shape)\n",
        "print('shape of ratings data after dropping unpopular items: ', df_iu_drop_i.shape)"
      ],
      "metadata": {
        "colab": {
          "base_uri": "https://localhost:8080/"
        },
        "id": "eF9aWNajuY0K",
        "outputId": "0d01a15f-ea0f-49e2-bbb3-13455af420ef"
      },
      "execution_count": null,
      "outputs": [
        {
          "output_type": "stream",
          "name": "stdout",
          "text": [
            "shape of original ratings data:  (100836, 3)\n",
            "shape of ratings data after dropping unpopular items:  (41360, 3)\n"
          ]
        }
      ]
    },
    {
      "cell_type": "markdown",
      "source": [
        "After dropping 75% of movies in our dataset, we still have a huge dataset. So next, we can filter users to reduce the data size further."
      ],
      "metadata": {
        "id": "SdI4Wab1ubWo"
      }
    },
    {
      "cell_type": "code",
      "source": [
        "# get number of ratings given by every user\n",
        "df_u_cnt = pd.DataFrame(df_iu_drop_i.groupby(u_id).size(), columns=['count'])\n",
        "df_u_cnt.tail()"
      ],
      "metadata": {
        "colab": {
          "base_uri": "https://localhost:8080/",
          "height": 237
        },
        "id": "WAkQsYu8uex_",
        "outputId": "fb8b64dc-1fc7-498d-ed77-81312580b7f4"
      },
      "execution_count": null,
      "outputs": [
        {
          "output_type": "execute_result",
          "data": {
            "text/plain": [
              "        count\n",
              "userId       \n",
              "606       238\n",
              "607       100\n",
              "608       309\n",
              "609        24\n",
              "610       240"
            ],
            "text/html": [
              "\n",
              "  <div id=\"df-aa42a8a1-7a52-4bb7-b68e-0731e15ec01d\">\n",
              "    <div class=\"colab-df-container\">\n",
              "      <div>\n",
              "<style scoped>\n",
              "    .dataframe tbody tr th:only-of-type {\n",
              "        vertical-align: middle;\n",
              "    }\n",
              "\n",
              "    .dataframe tbody tr th {\n",
              "        vertical-align: top;\n",
              "    }\n",
              "\n",
              "    .dataframe thead th {\n",
              "        text-align: right;\n",
              "    }\n",
              "</style>\n",
              "<table border=\"1\" class=\"dataframe\">\n",
              "  <thead>\n",
              "    <tr style=\"text-align: right;\">\n",
              "      <th></th>\n",
              "      <th>count</th>\n",
              "    </tr>\n",
              "    <tr>\n",
              "      <th>userId</th>\n",
              "      <th></th>\n",
              "    </tr>\n",
              "  </thead>\n",
              "  <tbody>\n",
              "    <tr>\n",
              "      <th>606</th>\n",
              "      <td>238</td>\n",
              "    </tr>\n",
              "    <tr>\n",
              "      <th>607</th>\n",
              "      <td>100</td>\n",
              "    </tr>\n",
              "    <tr>\n",
              "      <th>608</th>\n",
              "      <td>309</td>\n",
              "    </tr>\n",
              "    <tr>\n",
              "      <th>609</th>\n",
              "      <td>24</td>\n",
              "    </tr>\n",
              "    <tr>\n",
              "      <th>610</th>\n",
              "      <td>240</td>\n",
              "    </tr>\n",
              "  </tbody>\n",
              "</table>\n",
              "</div>\n",
              "      <button class=\"colab-df-convert\" onclick=\"convertToInteractive('df-aa42a8a1-7a52-4bb7-b68e-0731e15ec01d')\"\n",
              "              title=\"Convert this dataframe to an interactive table.\"\n",
              "              style=\"display:none;\">\n",
              "        \n",
              "  <svg xmlns=\"http://www.w3.org/2000/svg\" height=\"24px\"viewBox=\"0 0 24 24\"\n",
              "       width=\"24px\">\n",
              "    <path d=\"M0 0h24v24H0V0z\" fill=\"none\"/>\n",
              "    <path d=\"M18.56 5.44l.94 2.06.94-2.06 2.06-.94-2.06-.94-.94-2.06-.94 2.06-2.06.94zm-11 1L8.5 8.5l.94-2.06 2.06-.94-2.06-.94L8.5 2.5l-.94 2.06-2.06.94zm10 10l.94 2.06.94-2.06 2.06-.94-2.06-.94-.94-2.06-.94 2.06-2.06.94z\"/><path d=\"M17.41 7.96l-1.37-1.37c-.4-.4-.92-.59-1.43-.59-.52 0-1.04.2-1.43.59L10.3 9.45l-7.72 7.72c-.78.78-.78 2.05 0 2.83L4 21.41c.39.39.9.59 1.41.59.51 0 1.02-.2 1.41-.59l7.78-7.78 2.81-2.81c.8-.78.8-2.07 0-2.86zM5.41 20L4 18.59l7.72-7.72 1.47 1.35L5.41 20z\"/>\n",
              "  </svg>\n",
              "      </button>\n",
              "      \n",
              "  <style>\n",
              "    .colab-df-container {\n",
              "      display:flex;\n",
              "      flex-wrap:wrap;\n",
              "      gap: 12px;\n",
              "    }\n",
              "\n",
              "    .colab-df-convert {\n",
              "      background-color: #E8F0FE;\n",
              "      border: none;\n",
              "      border-radius: 50%;\n",
              "      cursor: pointer;\n",
              "      display: none;\n",
              "      fill: #1967D2;\n",
              "      height: 32px;\n",
              "      padding: 0 0 0 0;\n",
              "      width: 32px;\n",
              "    }\n",
              "\n",
              "    .colab-df-convert:hover {\n",
              "      background-color: #E2EBFA;\n",
              "      box-shadow: 0px 1px 2px rgba(60, 64, 67, 0.3), 0px 1px 3px 1px rgba(60, 64, 67, 0.15);\n",
              "      fill: #174EA6;\n",
              "    }\n",
              "\n",
              "    [theme=dark] .colab-df-convert {\n",
              "      background-color: #3B4455;\n",
              "      fill: #D2E3FC;\n",
              "    }\n",
              "\n",
              "    [theme=dark] .colab-df-convert:hover {\n",
              "      background-color: #434B5C;\n",
              "      box-shadow: 0px 1px 3px 1px rgba(0, 0, 0, 0.15);\n",
              "      filter: drop-shadow(0px 1px 2px rgba(0, 0, 0, 0.3));\n",
              "      fill: #FFFFFF;\n",
              "    }\n",
              "  </style>\n",
              "\n",
              "      <script>\n",
              "        const buttonEl =\n",
              "          document.querySelector('#df-aa42a8a1-7a52-4bb7-b68e-0731e15ec01d button.colab-df-convert');\n",
              "        buttonEl.style.display =\n",
              "          google.colab.kernel.accessAllowed ? 'block' : 'none';\n",
              "\n",
              "        async function convertToInteractive(key) {\n",
              "          const element = document.querySelector('#df-aa42a8a1-7a52-4bb7-b68e-0731e15ec01d');\n",
              "          const dataTable =\n",
              "            await google.colab.kernel.invokeFunction('convertToInteractive',\n",
              "                                                     [key], {});\n",
              "          if (!dataTable) return;\n",
              "\n",
              "          const docLinkHtml = 'Like what you see? Visit the ' +\n",
              "            '<a target=\"_blank\" href=https://colab.research.google.com/notebooks/data_table.ipynb>data table notebook</a>'\n",
              "            + ' to learn more about interactive tables.';\n",
              "          element.innerHTML = '';\n",
              "          dataTable['output_type'] = 'display_data';\n",
              "          await google.colab.output.renderOutput(dataTable, element);\n",
              "          const docLink = document.createElement('div');\n",
              "          docLink.innerHTML = docLinkHtml;\n",
              "          element.appendChild(docLink);\n",
              "        }\n",
              "      </script>\n",
              "    </div>\n",
              "  </div>\n",
              "  "
            ]
          },
          "metadata": {},
          "execution_count": 71
        }
      ]
    },
    {
      "cell_type": "code",
      "source": [
        "# plot rating frequency of all users\n",
        "ax = df_u_cnt \\\n",
        "    .sort_values('count', ascending=False) \\\n",
        "    .reset_index(drop=True) \\\n",
        "    .plot(\n",
        "        figsize=(12, 8),\n",
        "        title='Rating Frequency of All Users',\n",
        "        fontsize=12\n",
        "    )\n",
        "ax.set_xlabel(u_id)\n",
        "ax.set_ylabel(\"number of ratings\")"
      ],
      "metadata": {
        "colab": {
          "base_uri": "https://localhost:8080/",
          "height": 538
        },
        "id": "JYxlgyRvugcS",
        "outputId": "3284a4f0-f121-456a-bf61-e8e4c2c03fa3"
      },
      "execution_count": null,
      "outputs": [
        {
          "output_type": "execute_result",
          "data": {
            "text/plain": [
              "Text(0, 0.5, 'number of ratings')"
            ]
          },
          "metadata": {},
          "execution_count": 72
        },
        {
          "output_type": "display_data",
          "data": {
            "text/plain": [
              "<Figure size 864x576 with 1 Axes>"
            ],
            "image/png": "[encoded data removed]"
          },
          "metadata": {
            "needs_background": "light"
          }
        }
      ]
    },
    {
      "cell_type": "code",
      "source": [
        "df_u_cnt['count'].quantile(np.arange(1, 0.5, -0.05))"
      ],
      "metadata": {
        "colab": {
          "base_uri": "https://localhost:8080/"
        },
        "id": "Y-TeCPoRuiIL",
        "outputId": "8b90b1a8-e56c-4719-ff14-1b01f5664a29"
      },
      "execution_count": null,
      "outputs": [
        {
          "output_type": "execute_result",
          "data": {
            "text/plain": [
              "1.00    429.00\n",
              "0.95    223.50\n",
              "0.90    166.00\n",
              "0.85    134.25\n",
              "0.80    105.00\n",
              "0.75     85.00\n",
              "0.70     74.00\n",
              "0.65     62.25\n",
              "0.60     56.00\n",
              "0.55     48.00\n",
              "Name: count, dtype: float64"
            ]
          },
          "metadata": {},
          "execution_count": 73
        }
      ]
    },
    {
      "cell_type": "markdown",
      "source": [
        "We can see that the distribution of ratings by users is very similar to the distribution of ratings among movies. They both have long-tail properties. Only a tiny fraction of users are actively engaged with rating movies they watched. The vast majority of users aren't interested in rating movies. So we can limit users to the top 40%, about 113,291 users."
      ],
      "metadata": {
        "id": "twX2NHS-uj66"
      }
    },
    {
      "cell_type": "code",
      "source": [
        "# filter data\n",
        "ratings_thres = 50\n",
        "active_users = list(set(df_u_cnt.query('count >= @ratings_thres').index))\n",
        "df_iu_drop_u = df_iu_drop_i[df_iu_drop_i[u_id].isin(active_users)]\n",
        "print('shape of original ratings data: ', df_iu.shape)\n",
        "print('shape of ratings data after dropping both unpopular items and inactive users: ', df_iu_drop_u.shape)"
      ],
      "metadata": {
        "colab": {
          "base_uri": "https://localhost:8080/"
        },
        "id": "7LxnQmyWw6SH",
        "outputId": "04887be1-c8f8-4852-8611-59fa01dec804"
      },
      "execution_count": null,
      "outputs": [
        {
          "output_type": "stream",
          "name": "stdout",
          "text": [
            "shape of original ratings data:  (100836, 3)\n",
            "shape of ratings data after dropping both unpopular items and inactive users:  (32999, 3)\n"
          ]
        }
      ]
    },
    {
      "cell_type": "markdown",
      "source": [
        "## 3. Train KNN model for item-based collaborative filtering\n",
        " - Reshaping the Data\n",
        " - Fitting the Model"
      ],
      "metadata": {
        "id": "cXkF2dxsu7Nl"
      }
    },
    {
      "cell_type": "markdown",
      "source": [
        "#### 1. Reshaping the Data\n",
        "For K-Nearest Neighbors, we want the data to be in an (item, user) matrix, where each row is an item(movie), and each column is a different user. \n",
        "\n",
        "1. To reshape the dataframe, we'll pivot the dataframe to the wide format with movies as rows and users as columns. \n",
        "\n",
        "1. Then, we'll fill the missing observations with 0s since we're going to be performing linear algebra operations (calculating distances between vectors). \n",
        "\n",
        "1. Finally, we transform the values of the dataframe into a scipy sparse matrix for more efficient calculations."
      ],
      "metadata": {
        "id": "UhY6Fy3zu-HI"
      }
    },
    {
      "cell_type": "code",
      "source": [
        "# 1 & 2: pivot and create movie-user matrix\n",
        "iu_mat = df_iu_drop_u.pivot(index=i_id, columns=u_id, values=rating).fillna(0)\n",
        "\n",
        "# create mapper from item (movie) title to index\n",
        "item_to_idx = {\n",
        "    item: i for i, item in \n",
        "    enumerate(list(df_i.set_index(i_id).loc[iu_mat.index].title))\n",
        "}\n",
        "\n",
        "# 3. transform matrix to scipy sparse matrix\n",
        "iu_mat_sparse = csr_matrix(iu_mat.values)"
      ],
      "metadata": {
        "id": "pwAYWDhRvGV8"
      },
      "execution_count": null,
      "outputs": []
    },
    {
      "cell_type": "markdown",
      "source": [
        "#### 2. Fitting the Model\n",
        "Time to implement the model. We'll initialize the NearestNeighbors class as model_knn and fit our sparse matrix to the instance. By specifying the metric = cosine, the model will measure similarity between artist vectors by using cosine similarity."
      ],
      "metadata": {
        "id": "Sc5L49L_xC0Y"
      }
    },
    {
      "cell_type": "code",
      "source": [
        "#%env JOBLIB_TEMP_FOLDER=/tmp\n",
        "# define model\n",
        "model_knn = NearestNeighbors(metric='cosine', algorithm='brute', n_neighbors=20, n_jobs=-1)\n",
        "# fit\n",
        "model_knn.fit(iu_mat_sparse)"
      ],
      "metadata": {
        "colab": {
          "base_uri": "https://localhost:8080/"
        },
        "id": "8unjAQ0XxHTZ",
        "outputId": "0b75ff0d-f1b1-48b9-f8a7-6cae8243d42e"
      },
      "execution_count": null,
      "outputs": [
        {
          "output_type": "execute_result",
          "data": {
            "text/plain": [
              "NearestNeighbors(algorithm='brute', metric='cosine', n_jobs=-1, n_neighbors=20)"
            ]
          },
          "metadata": {},
          "execution_count": 76
        }
      ]
    },
    {
      "cell_type": "markdown",
      "source": [
        "## 4. Use this trained model to make item recommendations\n",
        "And we're finally ready to make some recommendations!"
      ],
      "metadata": {
        "id": "ZdVwLH9SxJur"
      }
    },
    {
      "cell_type": "code",
      "source": [
        "def fuzzy_matching(mapper:dict, fav_item:str, verbose:bool=True):\n",
        "    \"\"\"\n",
        "    return the closest match via fuzzy ratio. If no match found, return None\n",
        "    \n",
        "    Args\n",
        "    ----    \n",
        "    mapper: dict, map movie title name to index of the movie in data\n",
        "\n",
        "    fav_item: str, e.g. name of user input movie\n",
        "    \n",
        "    verbose: bool, print log if True\n",
        "\n",
        "    Returns\n",
        "    -------\n",
        "    index of the closest match\n",
        "    \"\"\"\n",
        "    match_tuple = []\n",
        "    # get match\n",
        "    for title, idx in mapper.items():\n",
        "        ratio = fuzz.ratio(title.lower(), fav_item.lower())\n",
        "        if ratio >= 60:\n",
        "            match_tuple.append((title, idx, ratio))\n",
        "    # sort\n",
        "    match_tuple = sorted(match_tuple, key=lambda x: x[2])[::-1]\n",
        "    if not match_tuple:\n",
        "        print('Oops! No match is found')\n",
        "        return\n",
        "    if verbose:\n",
        "        print('Found possible matches in our database: {0}\\n'.format([x[0] for x in match_tuple]))\n",
        "    return match_tuple[0][1]\n",
        "\n",
        "\n",
        "\n",
        "def make_recommendation(model_knn, data, mapper:dict, fav_item:str, n_recommendations:int):\n",
        "    \"\"\"\n",
        "    return top n similar movie recommendations based on user's input movie\n",
        "\n",
        "\n",
        "    Args\n",
        "    ----\n",
        "    model_knn: sklearn model, knn model\n",
        "\n",
        "    data: item-user matrix\n",
        "\n",
        "    mapper: dict, map movie title name to index of the movie in data\n",
        "\n",
        "    fav_movie: str, name of user input movie\n",
        "\n",
        "    n_recommendations: int, top n recommendations\n",
        "\n",
        "    Returns\n",
        "    -------\n",
        "    list of top n similar movie recommendations\n",
        "    \"\"\"\n",
        "    # fit\n",
        "    model_knn.fit(data)\n",
        "    # get input movie index\n",
        "    print('You have input item:', fav_item)\n",
        "    idx = fuzzy_matching(mapper, fav_item, verbose=True)\n",
        "    # inference\n",
        "    print('Recommendation system start to make inference')\n",
        "    print('......\\n')\n",
        "    distances, indices = model_knn.kneighbors(data[idx], n_neighbors=n_recommendations+1)\n",
        "    # get list of raw idx of recommendations\n",
        "    raw_recommends = \\\n",
        "        sorted(list(zip(indices.squeeze().tolist(), distances.squeeze().tolist())), key=lambda x: x[1])[:0:-1]\n",
        "    # get reverse mapper\n",
        "    reverse_mapper = {v: k for k, v in mapper.items()}\n",
        "    # print recommendations\n",
        "    print('Recommendations for {}:'.format(fav_item))\n",
        "    for i, (idx, dist) in enumerate(raw_recommends):\n",
        "        print('{0}: {1}, with distance of {2}'.format(i+1, reverse_mapper[idx], dist))"
      ],
      "metadata": {
        "id": "rMR-SGRjxM8p"
      },
      "execution_count": null,
      "outputs": []
    },
    {
      "cell_type": "code",
      "source": [
        "my_favorite = 'It is a wonderful life'\n",
        "\n",
        "make_recommendation(\n",
        "    model_knn=model_knn,\n",
        "    data=iu_mat_sparse,\n",
        "    fav_item=my_favorite,\n",
        "    mapper=item_to_idx,\n",
        "    n_recommendations=10)"
      ],
      "metadata": {
        "colab": {
          "base_uri": "https://localhost:8080/"
        },
        "id": "lRV4O46ExPYm",
        "outputId": "73e38a55-fb7c-4522-be22-c42a938bd9ec"
      },
      "execution_count": null,
      "outputs": [
        {
          "output_type": "stream",
          "name": "stdout",
          "text": [
            "You have input item: It is a wonderful life\n",
            "Found possible matches in our database: [\"It's a Wonderful Life (1946)\"]\n",
            "\n",
            "Recommendation system start to make inference\n",
            "......\n",
            "\n",
            "Recommendations for It is a wonderful life:\n",
            "1: Godfather: Part II, The (1974), with distance of 0.5093856453895569\n",
            "2: Rain Man (1988), with distance of 0.5049393177032471\n",
            "3: Some Like It Hot (1959), with distance of 0.5019153356552124\n",
            "4: Rear Window (1954), with distance of 0.5014127492904663\n",
            "5: When Harry Met Sally... (1989), with distance of 0.4962582588195801\n",
            "6: Mary Poppins (1964), with distance of 0.49083685874938965\n",
            "7: Wizard of Oz, The (1939), with distance of 0.4602513909339905\n",
            "8: Graduate, The (1967), with distance of 0.4559705853462219\n",
            "9: Monty Python and the Holy Grail (1975), with distance of 0.4353857636451721\n",
            "10: Casablanca (1942), with distance of 0.4322146773338318\n"
          ]
        }
      ]
    },
    {
      "cell_type": "markdown",
      "source": [
        "Takeaways:\n",
        "\n",
        "*   **Release Years of Recommended Movies:** It is very interesting that my **KNN** model recommends movies that were also produced in very similar years.\n",
        "*   **Cosine Distances:** However, all those recommendations' cosine distance is relatively small. \n",
        "*   **Data Sparsity:** This is because there are too many zero values in our movie-user matrix. With too many zero values in our data, the data sparsity becomes a real issue for **KNN** model, and the distance in **KNN** model starts to fall apart.\n",
        "\n",
        "So I'd like to dig deeper and look closer at our data."
      ],
      "metadata": {
        "id": "ZNXPUS9cxXZs"
      }
    },
    {
      "cell_type": "markdown",
      "source": [
        "#### (extra inspection) \n",
        "Let's now look at how sparse the movie-user matrix is by calculating the percentage of zero values in the data."
      ],
      "metadata": {
        "id": "LBf6-6EExhd5"
      }
    },
    {
      "cell_type": "code",
      "source": [
        "# calcuate total number of entries in the movie-user matrix\n",
        "num_entries = iu_mat.shape[0] * iu_mat.shape[1]\n",
        "# calculate total number of entries with zero values\n",
        "num_zeros = (iu_mat==0).sum(axis=1).sum()\n",
        "# calculate ratio of number of zeros to number of entries\n",
        "ratio_zeros = num_zeros / num_entries\n",
        "print('There is about {:.2%} of ratings in our data is missing'.format(ratio_zeros))"
      ],
      "metadata": {
        "colab": {
          "base_uri": "https://localhost:8080/"
        },
        "id": "FLqDDCPKxjzP",
        "outputId": "38774879-ded9-43db-8fa0-ea5ddf9fd429"
      },
      "execution_count": null,
      "outputs": [
        {
          "output_type": "stream",
          "name": "stdout",
          "text": [
            "There is about 72.64% of ratings in our data is missing\n"
          ]
        }
      ]
    },
    {
      "cell_type": "markdown",
      "source": [
        "This result confirms my hypothesis. The vast majority of entries in our data are zero.\n",
        "\n",
        "This explains the considerable distance between both similar and opposite items."
      ],
      "metadata": {
        "id": "YsaNdo3yxmDB"
      }
    },
    {
      "cell_type": "markdown",
      "source": [
        "\n",
        "## 5. The bottleneck of item-based collaborative filtering using KNN.\n",
        " - Cold start problem\n",
        " - Data sparsity problem\n",
        " - Popularity bias (how to recommend products from the tail of product distribution)\n",
        " - Scalability bottleneck"
      ],
      "metadata": {
        "id": "yWOM3FEfxreE"
      }
    },
    {
      "cell_type": "markdown",
      "source": [
        "**Cold Start Problem**\n",
        "\n",
        "We saw there is 98.35% of user-item interactions are not yet recorded, even after I filtered out less-known item and inactive users. Apparently, we don't even have sufficient information for the system to make reliable inferences for users or items. This is called **Cold Start** problem in recommender system.\n",
        "\n",
        "There are three cases of cold start:\n",
        "\n",
        "1. New community: refers to the start-up of the recommender, when, although a catalogue of items might exist, almost no users are present and the lack of user-item interaction makes very hard to provide reliable recommendations, called `iu-cold-start` problem\n",
        "\n",
        "2. New item: a new item is added to the system, it might have some content information but no interactions are present, called `item-cold-start` problem\n",
        "\n",
        "3. New user: a new user registers and has not provided any interaction yet, therefore it is not possible to provide personalized recommendations, called `user-cold-start` problem\n",
        "\n",
        "**Item Cold Start Problem [Data Sparsity]**\n",
        "\n",
        "We are not concerned with the `user-cold-start` problem because we can use item-based filtering to make recommendations for new user. In our case, we are more concerned with the first two cases (`iu-cold-start`, `item-cold-start`) especially the second case.\n",
        "\n",
        "The `item cold-start` problem refers to when items added to the catalogue have either none or very few interactions. This constitutes a problem mainly for collaborative filtering algorithms due to the fact that they rely on the user-item interactions to make recommendations. If no interactions are available then a pure collaborative algorithm cannot recommend the item. In case only a few interactions are available, although a collaborative algorithm will be able to recommend it, the quality of those recommendations will be poor. \n",
        "\n",
        "**Popularity Bias**\n",
        "\n",
        "We often face a similar issue when it comes to `unpopular items`. In some cases (e.g. movie recommendations) it might happen that a handful of items receive an extremely high number of iteractions, while most of the items only receive a fraction of them. This is also referred to as a `popularity bias`. Please recall the previously mentioned long-tail skewed distribution for movie rating frequency.\n",
        "\n",
        "**Scalability**\n",
        "\n",
        "In addition to that, `scalability` is also a big issue in the KNN model. Its time complexity is O(nd + kn), where n is the training set's cardinality, and d is each sample's dimension. And KNN takes more time to make inferences than training, which increases the prediction latency."
      ],
      "metadata": {
        "id": "QM2p9IvuxxWF"
      }
    },
    {
      "cell_type": "markdown",
      "source": [
        "## 6. Further study\n",
        "\n",
        "Use spark's ALS to solve above problems"
      ],
      "metadata": {
        "id": "PAT_3yXUx0Pm"
      }
    }
  ]
}